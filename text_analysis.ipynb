{
 "cells": [
  {
   "cell_type": "code",
   "execution_count": 89,
   "metadata": {},
   "outputs": [
    {
     "name": "stdout",
     "output_type": "stream",
     "text": [
      "Collecting en-core-web-sm@ https://github.com/explosion/spacy-models/releases/download/en_core_web_sm-3.7.1/en_core_web_sm-3.7.1-py3-none-any.whl#sha256=86cc141f63942d4b2c5fcee06630fd6f904788d2f0ab005cce45aadb8fb73889 (from -r requirements.txt (line 10))\n",
      "  Downloading https://github.com/explosion/spacy-models/releases/download/en_core_web_sm-3.7.1/en_core_web_sm-3.7.1-py3-none-any.whl (12.8 MB)\n",
      "\u001b[2K     \u001b[90m━━━━━━━━━━━━━━━━━━━━━━━━━━━━━━━━━━━━━━━━\u001b[0m \u001b[32m12.8/12.8 MB\u001b[0m \u001b[31m2.9 MB/s\u001b[0m eta \u001b[36m0:00:00\u001b[0m00:01\u001b[0m00:01\u001b[0mm\n",
      "\u001b[?25hRequirement already satisfied: annotated-types==0.6.0 in ./venv/lib/python3.11/site-packages (from -r requirements.txt (line 1)) (0.6.0)\n",
      "Requirement already satisfied: blis==0.7.11 in ./venv/lib/python3.11/site-packages (from -r requirements.txt (line 2)) (0.7.11)\n",
      "Requirement already satisfied: catalogue==2.0.10 in ./venv/lib/python3.11/site-packages (from -r requirements.txt (line 3)) (2.0.10)\n",
      "Requirement already satisfied: certifi==2024.2.2 in ./venv/lib/python3.11/site-packages (from -r requirements.txt (line 4)) (2024.2.2)\n",
      "Requirement already satisfied: charset-normalizer==3.3.2 in ./venv/lib/python3.11/site-packages (from -r requirements.txt (line 5)) (3.3.2)\n",
      "Requirement already satisfied: click==8.1.7 in ./venv/lib/python3.11/site-packages (from -r requirements.txt (line 6)) (8.1.7)\n",
      "Requirement already satisfied: cloudpathlib==0.16.0 in ./venv/lib/python3.11/site-packages (from -r requirements.txt (line 7)) (0.16.0)\n",
      "Requirement already satisfied: confection==0.1.4 in ./venv/lib/python3.11/site-packages (from -r requirements.txt (line 8)) (0.1.4)\n",
      "Requirement already satisfied: cymem==2.0.8 in ./venv/lib/python3.11/site-packages (from -r requirements.txt (line 9)) (2.0.8)\n",
      "Requirement already satisfied: idna==3.6 in ./venv/lib/python3.11/site-packages (from -r requirements.txt (line 11)) (3.6)\n",
      "Requirement already satisfied: Jinja2==3.1.3 in ./venv/lib/python3.11/site-packages (from -r requirements.txt (line 12)) (3.1.3)\n",
      "Requirement already satisfied: langcodes==3.3.0 in ./venv/lib/python3.11/site-packages (from -r requirements.txt (line 13)) (3.3.0)\n",
      "Requirement already satisfied: MarkupSafe==2.1.5 in ./venv/lib/python3.11/site-packages (from -r requirements.txt (line 14)) (2.1.5)\n",
      "Requirement already satisfied: murmurhash==1.0.10 in ./venv/lib/python3.11/site-packages (from -r requirements.txt (line 15)) (1.0.10)\n",
      "Requirement already satisfied: numpy==1.26.4 in ./venv/lib/python3.11/site-packages (from -r requirements.txt (line 16)) (1.26.4)\n",
      "Requirement already satisfied: packaging==23.2 in ./venv/lib/python3.11/site-packages (from -r requirements.txt (line 17)) (23.2)\n",
      "Requirement already satisfied: preshed==3.0.9 in ./venv/lib/python3.11/site-packages (from -r requirements.txt (line 18)) (3.0.9)\n",
      "Requirement already satisfied: pydantic==2.6.1 in ./venv/lib/python3.11/site-packages (from -r requirements.txt (line 19)) (2.6.1)\n",
      "Requirement already satisfied: pydantic_core==2.16.2 in ./venv/lib/python3.11/site-packages (from -r requirements.txt (line 20)) (2.16.2)\n",
      "Requirement already satisfied: requests==2.31.0 in ./venv/lib/python3.11/site-packages (from -r requirements.txt (line 21)) (2.31.0)\n",
      "Requirement already satisfied: smart-open==6.4.0 in ./venv/lib/python3.11/site-packages (from -r requirements.txt (line 22)) (6.4.0)\n",
      "Requirement already satisfied: spacy==3.7.4 in ./venv/lib/python3.11/site-packages (from -r requirements.txt (line 23)) (3.7.4)\n",
      "Requirement already satisfied: spacy-legacy==3.0.12 in ./venv/lib/python3.11/site-packages (from -r requirements.txt (line 24)) (3.0.12)\n",
      "Requirement already satisfied: spacy-loggers==1.0.5 in ./venv/lib/python3.11/site-packages (from -r requirements.txt (line 25)) (1.0.5)\n",
      "Requirement already satisfied: srsly==2.4.8 in ./venv/lib/python3.11/site-packages (from -r requirements.txt (line 26)) (2.4.8)\n",
      "Requirement already satisfied: thinc==8.2.3 in ./venv/lib/python3.11/site-packages (from -r requirements.txt (line 27)) (8.2.3)\n",
      "Requirement already satisfied: tqdm==4.66.2 in ./venv/lib/python3.11/site-packages (from -r requirements.txt (line 28)) (4.66.2)\n",
      "Requirement already satisfied: typer==0.9.0 in ./venv/lib/python3.11/site-packages (from -r requirements.txt (line 29)) (0.9.0)\n",
      "Requirement already satisfied: typing_extensions==4.9.0 in ./venv/lib/python3.11/site-packages (from -r requirements.txt (line 30)) (4.9.0)\n",
      "Requirement already satisfied: urllib3==2.2.1 in ./venv/lib/python3.11/site-packages (from -r requirements.txt (line 31)) (2.2.1)\n",
      "Requirement already satisfied: wasabi==1.1.2 in ./venv/lib/python3.11/site-packages (from -r requirements.txt (line 32)) (1.1.2)\n",
      "Requirement already satisfied: weasel==0.3.4 in ./venv/lib/python3.11/site-packages (from -r requirements.txt (line 33)) (0.3.4)\n",
      "Requirement already satisfied: seaborn in ./venv/lib/python3.11/site-packages (from -r requirements.txt (line 34)) (0.13.2)\n",
      "Requirement already satisfied: setuptools in ./venv/lib/python3.11/site-packages (from spacy==3.7.4->-r requirements.txt (line 23)) (67.6.1)\n",
      "Requirement already satisfied: pandas>=1.2 in ./venv/lib/python3.11/site-packages (from seaborn->-r requirements.txt (line 34)) (2.2.1)\n",
      "Requirement already satisfied: matplotlib!=3.6.1,>=3.4 in ./venv/lib/python3.11/site-packages (from seaborn->-r requirements.txt (line 34)) (3.8.3)\n",
      "Requirement already satisfied: contourpy>=1.0.1 in ./venv/lib/python3.11/site-packages (from matplotlib!=3.6.1,>=3.4->seaborn->-r requirements.txt (line 34)) (1.2.0)\n",
      "Requirement already satisfied: cycler>=0.10 in ./venv/lib/python3.11/site-packages (from matplotlib!=3.6.1,>=3.4->seaborn->-r requirements.txt (line 34)) (0.12.1)\n",
      "Requirement already satisfied: fonttools>=4.22.0 in ./venv/lib/python3.11/site-packages (from matplotlib!=3.6.1,>=3.4->seaborn->-r requirements.txt (line 34)) (4.49.0)\n",
      "Requirement already satisfied: kiwisolver>=1.3.1 in ./venv/lib/python3.11/site-packages (from matplotlib!=3.6.1,>=3.4->seaborn->-r requirements.txt (line 34)) (1.4.5)\n",
      "Requirement already satisfied: pillow>=8 in ./venv/lib/python3.11/site-packages (from matplotlib!=3.6.1,>=3.4->seaborn->-r requirements.txt (line 34)) (10.2.0)\n",
      "Requirement already satisfied: pyparsing>=2.3.1 in ./venv/lib/python3.11/site-packages (from matplotlib!=3.6.1,>=3.4->seaborn->-r requirements.txt (line 34)) (3.1.1)\n",
      "Requirement already satisfied: python-dateutil>=2.7 in ./venv/lib/python3.11/site-packages (from matplotlib!=3.6.1,>=3.4->seaborn->-r requirements.txt (line 34)) (2.8.2)\n",
      "Requirement already satisfied: pytz>=2020.1 in ./venv/lib/python3.11/site-packages (from pandas>=1.2->seaborn->-r requirements.txt (line 34)) (2024.1)\n",
      "Requirement already satisfied: tzdata>=2022.7 in ./venv/lib/python3.11/site-packages (from pandas>=1.2->seaborn->-r requirements.txt (line 34)) (2024.1)\n",
      "Requirement already satisfied: six>=1.5 in ./venv/lib/python3.11/site-packages (from python-dateutil>=2.7->matplotlib!=3.6.1,>=3.4->seaborn->-r requirements.txt (line 34)) (1.16.0)\n",
      "Note: you may need to restart the kernel to use updated packages.\n"
     ]
    }
   ],
   "source": [
    "%pip install -r requirements.txt"
   ]
  },
  {
   "cell_type": "markdown",
   "metadata": {},
   "source": [
    "### Import necessary libraries"
   ]
  },
  {
   "cell_type": "code",
   "execution_count": 90,
   "metadata": {},
   "outputs": [],
   "source": [
    "import spacy \n",
    "import seaborn as sns \n",
    "import matplotlib.pyplot as plt\n",
    "import pandas as pd\n",
    "import re "
   ]
  },
  {
   "cell_type": "markdown",
   "metadata": {},
   "source": [
    "### Loading English language model"
   ]
  },
  {
   "cell_type": "code",
   "execution_count": 91,
   "metadata": {},
   "outputs": [],
   "source": [
    "nlp = spacy.load(\"en_core_web_sm\")"
   ]
  },
  {
   "cell_type": "markdown",
   "metadata": {},
   "source": [
    "## Cleaning the text"
   ]
  },
  {
   "cell_type": "markdown",
   "metadata": {},
   "source": [
    "Modifying the text in a way in such a way that it makes processing the text easier. This includes removing punctuation, converting the text to lowercase, and removing any commonly used words."
   ]
  },
  {
   "cell_type": "code",
   "execution_count": 92,
   "metadata": {},
   "outputs": [],
   "source": [
    "def preprocess(text):\n",
    "    text = text.lower()\n",
    "\n",
    "    text = re.sub(r'\\d+', '', text)\n",
    "    text = re.sub(r'[^\\w\\s]', '', text)\n",
    "\n",
    "    text = nlp(text)\n",
    "\n",
    "    text = [token.lemma_ for token in text if not token.is_stop]\n",
    "    text = \" \".join(text)\n",
    "    return text"
   ]
  },
  {
   "cell_type": "code",
   "execution_count": 93,
   "metadata": {},
   "outputs": [
    {
     "data": {
      "text/plain": [
       "'learn new thing fun love explore world discover new idea'"
      ]
     },
     "execution_count": 93,
     "metadata": {},
     "output_type": "execute_result"
    }
   ],
   "source": [
    "preprocess(\"Learning new things is so much fun! I love exploring the world and discovering new ideas.\")"
   ]
  },
  {
   "cell_type": "markdown",
   "metadata": {},
   "source": [
    "# Character Identification Solutions\n",
    "\n",
    "### Part of Speech (POS) Tagging\n",
    "\n",
    "Using POS tagging, I can identify the nouns in the text. This method may not be as accurate as NER, but it can help me identify the characters in the text."
   ]
  },
  {
   "cell_type": "code",
   "execution_count": 94,
   "metadata": {},
   "outputs": [],
   "source": [
    "def proper_nouns(tagged_text):\n",
    "    proper_nouns = []\n",
    "    i = 0\n",
    "    while i < len(tagged_text):\n",
    "        if tagged_text[i][1] == 'NNP':\n",
    "            if i < len(tagged_text) - 1 and tagged_text[i + 1][1] == 'NNP':\n",
    "                proper_nouns.append(tagged_text[i][0].lower() + ' ' + tagged_text[i + 1][0].lower())\n",
    "                i += 1\n",
    "            else:\n",
    "                proper_nouns.append(tagged_text[i][0].lower())\n",
    "        i += 1\n",
    "    return proper_nouns\n",
    "\n",
    "def characters_in_text(file):\n",
    "    with open(file, 'r') as f:\n",
    "        text = f.read()\n",
    "        \n",
    "    doc = nlp(text)\n",
    "    characters = proper_nouns([(word.text, word.tag_) for word in doc])\n",
    "    return characters"
   ]
  },
  {
   "cell_type": "code",
   "execution_count": 95,
   "metadata": {},
   "outputs": [
    {
     "name": "stdout",
     "output_type": "stream",
     "text": [
      "['alice', 'wonderland', 'alice', 'wonderland', 'lewis carroll', 'millennium fulcrum', 'edition', 'rabbit', 'hole', 'alice', 'alice', 'white', 'rabbit', 'alice', 'rabbit', 'rabbit', 'watch', 'alice', 'alice', 'alice', 'orange marmalade', 'alice', 'think--', 'alice', '--yes', 'longitude', 'alice', 'latitude', 'longitude', \"ma'am\", 'new zealand', 'australia', 'alice', \"dinah'll\", 'dinah', 'dinah', 'alice', 'dinah', 'dinah', 'alice', 'white rabbit', 'alice', 'rabbit', 'alice', 'alice', 'alice', 'dark', 'alice', 'alice', 'alice', 'alice', 'alice', 'alice', 'alice', 'alice', 'alice', 'alice', 'alice', 'alice', 'chapter ii', 'pool', 'curiouser', 'alice', 'english', 'good', 'alice', 'christmas', 'alice', 'foot', 'esq', 'hearthrug', 'near the', 'fender', \"alice 's\", 'love', 'poor alice', 'alice', 'white rabbit', 'duchess', 'duchess', '!', 'alice', 'rabbit', 'rabbit', 'alice', 'dear', 'that', 'ada', 'mabel', 'she', 'multiplication table', 'geography', 'london', 'paris', 'paris', 'rome', 'rome', 'that', 'mabel', 'do:--', 'nile', 'alice', 'mabel', 'mabel', 'alice', 'rabbit', 'alice', 'alice', 'alice', 'alice', 'mouse', 'mouse', 'alice', 'latin grammar', 'mouse', 'english', 'alice', 'french', 'william', 'conqueror', 'alice', 'ou', 'ma chatte', 'mouse', 'fright', 'alice', 'mouse', 'alice', 'dinah', 'alice', 'alice', 'mouse', 'mouse', 'alice', 'mouse', 'alice', 'alice', 'mouse', 'mouse', 'mouse', 'alice', 'duck', 'dodo', 'lory', 'eaglet', 'alice', 'chapter iii', 'caucus', 'race', 'long tale', 'alice', 'lory', 'alice', 'lory', 'mouse', 'mouse', 'alice', 'ahem', 'mouse', 'silence', 'william', 'conqueror', 'english', 'edwin', 'morcar', 'mercia', 'northumbria--', 'ugh', 'lory', 'mouse', 'lory', 'mouse', '--i', 'edwin', 'morcar', 'mercia', 'northumbria', 'stigand', 'canterbury', 'duck', 'mouse', 'mouse', 'edgar', 'william', 'william', 'normans--', 'alice', 'alice', 'dodo', 'english', 'eaglet', 'eaglet', 'dodo', 'caucus', 'caucus', 'alice', 'dodo', 'somebody', 'dodo', 'dodo', 'dodo', 'dodo', 'shakespeare', 'dodo', 'she', 'dodo', 'alice', 'alice', 'mouse', 'dodo', 'alice', 'alice', 'dodo', 'dodo', 'alice', 'mouse', 'alice', 'mouse', 'alice', 'alice', 'mouse', 'mouse', 'this:--', 'fury', 'sir', 'mouse', 'alice', 'alice', 'mouse', 'alice', 'mouse', 'alice', 'mouse', 'alice', 'mouse', 'lory', 'crab', 'ma', 'crab', 'dinah', 'alice', 'dinah', 'lory', 'alice', 'dinah', 'magpie', 'canary', 'alice', 'dinah', 'dinah', 'alice', 'mouse', 'chapter iv', 'rabbit', 'little bill', 'white rabbit', 'duchess', 'duchess', 'alice', 'rabbit', 'alice', 'mary ann', 'quick', 'alice', 'housemaid', 'w.', 'mary ann', 'alice', \"dinah'll\", 'miss alice', 'alice', 'dinah', 'me', 'alice', 'alice', 'here', 'alice', 'alice', 'mary ann', 'mary ann', 'alice', 'rabbit', 'rabbit', 'rabbit', 'alice', 'alice', 'alice', 'rabbit', 'next', 'pat !', 'rabbit', 'pat', 'sure', 'sure', 'alice', 'alice', 'bill', 'bill !', 'bill !', 'that?--it', 'bill', 'then!--bill', 'bill', 'bill', 'alice', 'shy', 'bill', 'bill', 'bill', 'bill', 'rabbit', 'brandy', \"don't\", 'bill', 'alice', 'jack', 'rabbit', 'alice', 'dinah', 'alice', 'alice', 'rabbit', 'alice', 'alice', 'lizard', 'bill', 'alice', 'alice', 'alice', 'alice', 'alice', 'alice', 'alice', 'alice', 'chapter v', 'advice', 'caterpillar', 'caterpillar', 'alice', 'caterpillar', 'caterpillar', 'alice', 'sir', 'present--', 'caterpillar', 'myself', 'sir', 'alice', 'caterpillar', 'alice', 'caterpillar', 'alice', 'chrysalis', 'caterpillar', 'alice', 'caterpillar', 'alice', 'caterpillar', 'caterpillar', 'alice', 'caterpillar', 'caterpillar', 'alice', 'caterpillar', 'alice', 'caterpillar', 'alice', 'sir', 'alice', 'caterpillar', 'doth', 'little busy', 'bee', 'alice', 'father william', 'caterpillar', 'alice', 'began:--', 'father william', 'father william', 'door--', 'pray', 'box--', 'beak--', 'caterpillar', 'alice', 'caterpillar', 'caterpillar', 'alice', 'caterpillar', 'alice', 'caterpillar', 'little', 'sir', 'alice', 'caterpillar', 'alice', 'caterpillar', 'alice', 'caterpillar', 'alice', 'caterpillar', 'alice', 'alice', 'alice', 'serpent', 'pigeon', 'alice', 'serpent', 'pigeon', 'alice', 'pigeon', 'alice', 'pigeon', 'pigeon', 'alice', 'pigeon', 'ugh', 'serpent', 'alice', \"i'm\", 'pigeon', 'alice', 'pigeon', 'alice', 'pigeon', 'alice', 'pigeon', 'alice', 'pigeon', 'alice', 'alice', 'chapter vi', 'pig', 'pepper', 'alice', 'fish', 'footman', 'duchess', 'frog', 'footman', 'queen', 'duchess', 'alice', 'fish', 'footman', 'alice', 'footman', 'alice', 'footman', 'inside', 'alice', 'footman', 'tomorrow--', 'footman', '--or', 'footman', 'alice', 'footman', 'alice', 'footman', 'alice', 'footman', 'alice', 'duchess', 'alice', 'duchess', 'alice', 'cheshire', 'duchess', 'pig', 'alice', 'again:--', 'cheshire', 'duchess', 'alice', 'duchess', 'alice', 'duchess', 'duchess', 'alice', 'duchess', 'alice', 'axis--', 'duchess', 'alice', \"i-- '\", 'duchess', 'chorus', 'wow', 'duchess', 'alice', 'chorus', 'duchess', 'alice', 'queen', 'alice', 'alice', 'alice', 'alice', 'alice', 'alice', 'alice', 'alice', 'them--', 'cheshire cat', 'cat', 'alice', 'cheshire puss', 'alice', 'cat', 'where--', 'alice', 'cat', '--so', 'somewhere', 'alice', 'cat', 'alice', 'cat', 'march hare', 'alice', 'cat', 'alice', 'cat', 'alice', 'cat', 'alice', 'cat', 'alice', 'cat', 'queen', 'alice', 'cat', 'alice', 'cat', 'alice', 'cat', 'alice', 'march hare', 'march hare', 'may', 'march', 'cat', 'alice', 'cat', 'alice', 'march hare', 'hatter', 'chapter vii', 'tea', 'party', 'march hare', 'hatter', 'dormouse', 'dormouse', 'alice', 'alice', 'alice', 'march hare', 'alice', 'march hare', 'alice', 'march hare', 'alice', 'hatter', 'alice', 'alice', 'hatter', 'alice', 'riddles.--i', 'march hare', 'alice', 'march hare', 'alice', 'hatter', 'march hare', 'dormouse', 'hatter', 'alice', 'hatter', 'alice', 'alice', 'hatter', 'march', 'hare', 'march hare', 'hatter', 'march hare', 'alice', 'hatter', 'alice', 'mine', 'hatter', 'alice', 'hatter', 'dormouse', 'hatter', 'dormouse', 'hatter', 'alice', 'alice', 'hatter', 'march hare', 'alice', 'time', 'hatter', 'him', 'alice', 'hatter', 'time', 'alice', 'hatter', 'time', 'march hare', 'alice', 'hatter', 'alice', 'hatter', 'march', 'march hare', '--it', 'queen', 'twinkle', 'alice', 'hatter', 'twinkle', 'twinkle--', 'dormouse', 'twinkle', 'twinkle--', 'hatter', 'queen', 'alice', 'hatter', 'alice', 'hatter', 'alice', 'hatter', 'alice', 'march hare', 'alice', 'dormouse', 'dormouse', 'dormouse', 'march hare', 'alice', 'hatter', 'dormouse', 'elsie', 'lacie', 'tillie', 'well--', 'alice', 'dormouse', 'alice', 'dormouse', 'alice', 'march hare', 'alice', 'alice', 'hatter', 'alice', 'hatter', 'alice', 'dormouse', 'dormouse', 'alice', 'hatter', 'march hare', 'sh', 'sh', 'dormouse', 'alice', 'dormouse', 'alice', 'treacle', 'dormouse', 'hatter', 'dormouse', 'march hare', 'dormouse', 'alice', 'march hare', 'hatter', 'alice', 'march hare', 'alice', 'dormouse', 'hatter', 'alice', 'dormouse', 'dormouse', '--well', 'alice', 'dormouse', 'alice', 'march hare', 'alice', 'dormouse', 'hatter', 'm', 'alice', 'hatter', 'alice', 'dormouse', 'dormouse', 'alice', 'chapter viii', 'queen', 'croquet', 'ground', 'alice', 'five', 'seven', 'queen', 'seven', 'five', 'seven', 'alice', 'alice', 'seven', 'miss', 'red', 'miss', 'queen', 'queen', 'alice', 'queen', 'next', 'queens', 'alice', 'white rabbit', 'knave', 'king', 'hearts', 'alice', 'alice', 'queen', 'knave', 'idiot', 'queen', 'alice', 'alice', 'majesty', 'alice', 'queen', 'alice', 'mine', 'queen', \"'\", 'nonsense', 'alice', 'queen', 'king', 'queen', 'knave', 'knave', 'queen', 'king', 'queen', 'queen', 'majesty', 'trying--', 'queen', 'alice', 'alice', 'queen', 'majesty', 'queen', 'alice', 'alice', 'queen', 'alice', 'white rabbit', 'alice', 'duchess', 'hush', 'hush', 'rabbit', 'alice', 'rabbit', 'alice', 'queen', 'rabbit', 'alice', 'rabbit', 'queen', 'queen', 'alice', 'alice', 'hedgehog', 'alice', 'queen', 'alice', 'queen', 'cheshire cat', 'cat', 'alice', 'alice', 'cat', 'alice', 'queen', 'cat', 'alice', 'extremely--', 'queen', 'queen', 'king', 'alice', 'cat', 'cheshire cat', 'alice', 'cat', 'king', 'alice', 'alice', 'king', 'queen', 'queen', 'king', 'alice', 'queen', 'alice', 'alice', 'alice', 'cheshire cat', 'king', 'queen', 'alice', 'king', 'queen', 'alice', 'duchess', 'queen', 'cat', 'duchess', 'king', 'chapter ix', 'mock turtle', 'duchess', 'alice', 'alice', \"i'm\", 'duchess', 'at', 'all', 'soup', 'duchess', 'alice', 'tut', 'duchess', 'alice', 'alice', 'duchess', 'alice', 'duchess', 'alice', 'duchess', 'alice', 'alice', 'duchess', 'alice', 'duchess', 'alice', 'duchess', 'alice', 'duchess', 'alice', 'is--\"the', 'alice', 'duchess', 'alice', 'duchess', 'alice', 'duchess', 'alice', 'duchess', 'alice', 'duchess', 'alice', 'duchess', 'alice', 'majesty', 'duchess', 'queen', 'duchess', 'queen', 'alice', 'alice', 'queen', 'queen', 'queen', 'king', 'queen', 'alice', 'queen', 'alice', 'mock turtle', 'alice', 'mock turtle', 'mock turtle', 'soup', 'queen', 'alice', 'queen', 'alice', 'king', 'queen', 'gryphon', 'queen', 'mock turtle', 'alice', 'gryphon', 'alice', 'queen', 'gryphon', 'gryphon', 'alice', 'alice', 'she', 'gryphon', 'alice', 'mock turtle', 'alice', 'gryphon', 'gryphon', 'mock turtle', 'gryphon', 'mock turtle', 'alice', 'mock turtle', 'turtle', 'hjckrrh', 'gryphon', 'mock turtle', 'alice', 'mock turtle', 'turtle', 'tortoise', 'alice', 'tortoise', 'mock', 'turtle', 'gryphon', 'alice', 'gryphon', 'mock turtle', \"it-- '\", 'alice', 'mock turtle', 'gryphon', 'alice', 'mock turtle', \"i've\", 'alice', 'mock turtle', 'alice', 'french', 'mock turtle', 'alice', 'mock', 'turtle', 'alice', 'mock turtle', 'alice', 'writhing', 'mock', 'turtle', 'ambition', 'distraction', 'uglification', 'derision', 'alice', 'gryphon', 'alice', 'gryphon', 'alice', 'mock turtle', 'mystery', 'mock turtle', '--mystery', 'drawling', 'drawling', 'master', 'drawling', 'stretching', 'coils', 'alice', 'mock turtle', 'gryphon', 'gryphon', 'classics', 'mock turtle', 'laughing', 'grief', 'gryphon', 'alice', 'mock turtle', 'alice', 'gryphon', 'alice', 'mock turtle', 'alice', 'gryphon', 'chapter x', 'lobster quadrille', 'mock turtle', 'alice', 'gryphon', 'mock turtle', 'again:--', 'alice)--', 'alice', 'tasted--', 'lobster quadrille', 'alice', 'gryphon', 'mock turtle', 'way--', 'gryphon', 'twice--', 'gryphon', 'mock turtle', '--change', 'gryphon', 'mock turtle', 'gryphon', 'gryphon', 'mock turtle', 'gryphon', 'mock turtle', 'alice', 'alice', 'mock turtle', 'alice', 'mock turtle', 'gryphon', 'gryphon', 'round alice', 'mock turtle', 'sadly:--', 'askance--', 'scaly', 'england', 'alice', 'mock turtle', 'alice', 'dinn--', 'dinn', 'mock turtle', 'alice', 'mock turtle', 'mock turtle', 'gryphon', 'gryphon', 'alice', 'gryphon', 'alice', 'boots', 'gryphon', 'alice', 'gryphon', 'alice', 'gryphon', 'alice', 'gryphon', 'alice', 'mock turtle', 'alice', 'mock turtle', 'alice', 'mock turtle', 'gryphon', 'alice', 'mock turtle', 'no', 'gryphon', 'alice', 'white rabbit', 'father william', 'caterpillar', 'mock turtle', 'gryphon', 'mock turtle', 'gryphon', 'alice', 'tis', 'sluggard', 'gryphon', 'alice', 'lobster quadrille', 'lobster', 'shark', 'gryphon', 'mock turtle', 'alice', 'mock turtle', 'gryphon', 'mock turtle', 'alice', 'gryphon', 'alice', 'owl', 'panther', 'panther', 'gravy', 'owl', 'owl', 'panther', 'banquet--', 'mock turtle', 'gryphon', 'alice', 'lobster quadrille', 'gryphon', 'mock turtle', 'mock turtle', 'alice', 'gryphon', 'hm', 'turtle soup', 'mock turtle', 'beautiful soup', 'soup', 'soup', 'soup', 'soup', 'beau', 'soo', 'beau', 'soo', 'soo', 'soup', 'beautiful soup', 'game', 'pennyworth', 'soup', 'pennyworth', 'soup', 'beau', 'soo', 'beau', 'soo', 'soo', 'beautiful', 'beauti', 'ful soup', 'gryphon', 'mock turtle', 'gryphon', 'alice', 'alice', 'gryphon', 'words:--', 'soo', 'soup', 'chapter xi', 'king', 'queen', 'knave', 'king', 'white rabbit', 'alice', 'them--`i', 'alice', 'king', 'alice', 'alice', 'gryphon', 'gryphon', 'alice', 'white rabbit', 'king', 'alice', 'alice', 'alice', 'bill', 'lizard', 'herald', 'king', 'white rabbit', 'queen', 'knave', 'king', 'rabbit', 'king', 'white rabbit', 'hatter', 'majesty', 'king', 'hatter', 'march hare', 'dormouse', 'fourteenth', 'march', 'fifteenth', 'march hare', 'sixteenth', 'dormouse', 'king', 'king', 'hatter', 'hatter', 'stolen', 'king', 'hatter', 'queen', 'hatter', 'king', 'queen', 'alice', 'dormouse', 'alice', 'dormouse', 'alice', 'dormouse', 'queen', 'hatter', 'dormouse', 'hatter', 'king', 'majesty', 'hatter', 'king', 'hatter', 'hatter', 'march hare', 'said--', 'march hare', 'hatter', 'march hare', 'dormouse', 'hatter', 'dormouse', 'hatter', 'dormouse', 'hatter', 'king', 'hatter', 'majesty', 'king', 'alice', 'king', 'hatter', 'king', 'alice', 'hatter', 'queen', 'king', 'hatter', 'queen', 'hatter', 'king', 'duchess', 'alice', 'king', 'sha', 'king', 'white rabbit', 'majesty', 'king', 'pepper', 'treacle', 'collar', 'queen', 'behead', 'dormouse', 'dormouse', 'king', 'queen', 'alice', 'white rabbit', 'white rabbit', 'alice', 'chapter xii', 'alice', 'evidence', 'alice', 'king', 'all', 'alice', 'alice', 'lizard', 'lizard', 'king', 'alice', 'alice', 'whatever', 'king', 'alice', 'king', 'white rabbit', 'unimportant', 'majesty', 'unimportant', 'king', 'important--', 'alice', 'king', 'rule forty', 'mile', 'alice', \"i'm\", 'alice', 'king', 'queen', 'alice', 'king', 'number', 'alice', 'king', 'majesty', 'white rabbit', 'queen', 'white rabbit', 'king', 'white rabbit', 'outside', 'white rabbit', 'king', 'majesty', 'knave', 'king', 'king', 'queen', 'alice', 'king', 'white rabbit', 'majesty', 'king', 'white rabbit', 'king', \"jury-- '\", 'alice', 'king', '--said', 'knave', 'knave', 'king', 'true--', 'returned', 'him', 'alice', 'king', 'queen', 'queen', 'lizard', 'bill', 'king', 'king', 'king', 'no', 'queen', 'sentence', 'alice', 'queen', 'alice', 'queen', 'alice', 'alice', 'alice', 'alice', 'alice', 'dream:--', 'first', 'alice', 'white rabbit', 'mouse', 'march hare', 'queen', 'duchess', 'gryphon', 'lizard', 'mock turtle', 'wonderland', 'queen', 'gryphon', 'mock turtle', 'wonderland', 'end']\n"
     ]
    }
   ],
   "source": [
    "print(characters_in_text('texts/alice.txt'))"
   ]
  },
  {
   "cell_type": "markdown",
   "metadata": {},
   "source": [
    "# Named Entity Recognition (NER)\n",
    "\n",
    "Using NER, I can identify the entities in the text. Identifying the entity as a person could help me to identify the characters in the text. But in some instances where the character is not a person, this method may not work. \n",
    "\n",
    "For example, (Alice in Wonderland) Lobster Quadrille is a dance that Alice attends and is not a person. "
   ]
  },
  {
   "cell_type": "code",
   "execution_count": 96,
   "metadata": {},
   "outputs": [],
   "source": [
    "def character_tracker_NER(file: str) -> dict:\n",
    "    \"\"\"\n",
    "    file: str\n",
    "    doc: spacy doc object\n",
    "    returns a dictionary of characters, with their associated count and context.\n",
    "    \n",
    "    This is function that takes a spacy doc object or a file if the doc is not entered \n",
    "    and returns a dictionary of characters, with their associated count and context. \n",
    "    \"\"\"\n",
    "\n",
    "    # preprocess the text\n",
    "\n",
    "    with open(file, 'r') as f:\n",
    "        text = f.read()\n",
    "\n",
    "    doc = nlp(text)\n",
    "\n",
    "\n",
    "\n",
    "    characters = {}\n",
    "\n",
    "    for entity in doc.ents:\n",
    "        # print(entity.text, entity.label_)\n",
    "        # entity need to appear more than 5 times to be classed a character\n",
    "        # source: Esner et al. (2017) \"Character Identification in Novels Using Named Entity Recognition and Similarity Measures\"\n",
    "        if entity.label_ == \"PERSON\" and text.count(entity.text) > 5:\n",
    "            # add list of characters as an object\n",
    "            if entity.text not in characters:\n",
    "                characters[entity.text] = {\n",
    "                    \"count\": text.count(entity.text),\n",
    "                    \"context\": [entity.sent.text]\n",
    "                }\n",
    "            else:\n",
    "                characters[entity.text][\"context\"].append(entity.sent.text)\n",
    "    return characters"
   ]
  },
  {
   "cell_type": "code",
   "execution_count": 97,
   "metadata": {},
   "outputs": [
    {
     "name": "stdout",
     "output_type": "stream",
     "text": [
      "Characters found: {'Footman', 'Hatter', 'Beau', 'Gryphon', 'William', 'Mouse', 'fig', 'Lory', 'Ma', 'Bill', 'Alice', 'Queen', 'Majesty', 'Knave'} 14\n"
     ]
    }
   ],
   "source": [
    "characters = character_tracker_NER(\"texts/alice.txt\")\n",
    "if len(set(characters)) == 21:\n",
    "    print(\"Success!\", len(set(characters)), \"unique characters found.\")\n",
    "print(\"Characters found:\", set(characters), len(set(characters)))"
   ]
  },
  {
   "cell_type": "code",
   "execution_count": 98,
   "metadata": {},
   "outputs": [
    {
     "data": {
      "text/html": [
       "<div>\n",
       "<style scoped>\n",
       "    .dataframe tbody tr th:only-of-type {\n",
       "        vertical-align: middle;\n",
       "    }\n",
       "\n",
       "    .dataframe tbody tr th {\n",
       "        vertical-align: top;\n",
       "    }\n",
       "\n",
       "    .dataframe thead th {\n",
       "        text-align: right;\n",
       "    }\n",
       "</style>\n",
       "<table border=\"1\" class=\"dataframe\">\n",
       "  <thead>\n",
       "    <tr style=\"text-align: right;\">\n",
       "      <th></th>\n",
       "      <th>count</th>\n",
       "      <th>context</th>\n",
       "    </tr>\n",
       "  </thead>\n",
       "  <tbody>\n",
       "    <tr>\n",
       "      <th>Alice</th>\n",
       "      <td>396</td>\n",
       "      <td>[Alice's Adventures in Wonderland\\n\\n         ...</td>\n",
       "    </tr>\n",
       "    <tr>\n",
       "      <th>Queen</th>\n",
       "      <td>75</td>\n",
       "      <td>[An\\ninvitation from the Queen to play croquet...</td>\n",
       "    </tr>\n",
       "    <tr>\n",
       "      <th>Ma</th>\n",
       "      <td>61</td>\n",
       "      <td>[`Hold your tongue, Ma!' said the\\nyoung Crab,...</td>\n",
       "    </tr>\n",
       "    <tr>\n",
       "      <th>Hatter</th>\n",
       "      <td>55</td>\n",
       "      <td>[`What sort of people live about here?'\\n\\n  `...</td>\n",
       "    </tr>\n",
       "    <tr>\n",
       "      <th>Gryphon</th>\n",
       "      <td>55</td>\n",
       "      <td>[she\\nasked the Gryphon, and the Gryphon answe...</td>\n",
       "    </tr>\n",
       "    <tr>\n",
       "      <th>Mouse</th>\n",
       "      <td>30</td>\n",
       "      <td>[I am very tired of swimming about here, O Mou...</td>\n",
       "    </tr>\n",
       "    <tr>\n",
       "      <th>Bill</th>\n",
       "      <td>16</td>\n",
       "      <td>[`Where's the other ladder?--Why, I hadn't to ...</td>\n",
       "    </tr>\n",
       "    <tr>\n",
       "      <th>Majesty</th>\n",
       "      <td>12</td>\n",
       "      <td>[`Idiot!' said the Queen, tossing her head imp...</td>\n",
       "    </tr>\n",
       "    <tr>\n",
       "      <th>Footman</th>\n",
       "      <td>11</td>\n",
       "      <td>[`I shall sit here,' the Footman remarked, `ti...</td>\n",
       "    </tr>\n",
       "    <tr>\n",
       "      <th>Knave</th>\n",
       "      <td>9</td>\n",
       "      <td>[The Queen turned angrily away from him, and s...</td>\n",
       "    </tr>\n",
       "    <tr>\n",
       "      <th>Beau</th>\n",
       "      <td>9</td>\n",
       "      <td>[beautiful Soup!\\n        Beau--ootiful Soo--o...</td>\n",
       "    </tr>\n",
       "    <tr>\n",
       "      <th>fig</th>\n",
       "      <td>8</td>\n",
       "      <td>[`Did you say pig, or fig?' said the Cat.\\n\\n  ]</td>\n",
       "    </tr>\n",
       "    <tr>\n",
       "      <th>Lory</th>\n",
       "      <td>7</td>\n",
       "      <td>[It was high time to go, for the pool was gett...</td>\n",
       "    </tr>\n",
       "    <tr>\n",
       "      <th>William</th>\n",
       "      <td>6</td>\n",
       "      <td>[`Perhaps it doesn't understand English,' thou...</td>\n",
       "    </tr>\n",
       "  </tbody>\n",
       "</table>\n",
       "</div>"
      ],
      "text/plain": [
       "        count                                            context\n",
       "Alice     396  [Alice's Adventures in Wonderland\\n\\n         ...\n",
       "Queen      75  [An\\ninvitation from the Queen to play croquet...\n",
       "Ma         61  [`Hold your tongue, Ma!' said the\\nyoung Crab,...\n",
       "Hatter     55  [`What sort of people live about here?'\\n\\n  `...\n",
       "Gryphon    55  [she\\nasked the Gryphon, and the Gryphon answe...\n",
       "Mouse      30  [I am very tired of swimming about here, O Mou...\n",
       "Bill       16  [`Where's the other ladder?--Why, I hadn't to ...\n",
       "Majesty    12  [`Idiot!' said the Queen, tossing her head imp...\n",
       "Footman    11  [`I shall sit here,' the Footman remarked, `ti...\n",
       "Knave       9  [The Queen turned angrily away from him, and s...\n",
       "Beau        9  [beautiful Soup!\\n        Beau--ootiful Soo--o...\n",
       "fig         8   [`Did you say pig, or fig?' said the Cat.\\n\\n  ]\n",
       "Lory        7  [It was high time to go, for the pool was gett...\n",
       "William     6  [`Perhaps it doesn't understand English,' thou..."
      ]
     },
     "execution_count": 98,
     "metadata": {},
     "output_type": "execute_result"
    }
   ],
   "source": [
    "# look at character occurences with the text and make a graph\n",
    "\n",
    "def character_occurences(characters: dict) -> pd.DataFrame:\n",
    "    \"\"\"\n",
    "    characters: dict\n",
    "    returns a pandas dataframe of characters and their associated count.\n",
    "    \n",
    "    This is function that takes a dictionary of characters and their associated count and context \n",
    "    and returns a pandas dataframe of characters and their associated count. \n",
    "    \"\"\"\n",
    "    df = pd.DataFrame(characters).T\n",
    "    df = df.sort_values(by=\"count\", ascending=False)\n",
    "    return df\n",
    "\n",
    "df = character_occurences(characters)\n",
    "df"
   ]
  },
  {
   "cell_type": "code",
   "execution_count": 99,
   "metadata": {},
   "outputs": [
    {
     "data": {
      "image/png": "[encoded data removed]",
      "text/plain": [
       "<Figure size 640x480 with 1 Axes>"
      ]
     },
     "metadata": {},
     "output_type": "display_data"
    }
   ],
   "source": [
    "# plot the character occurences\n",
    "\n",
    "def plot_character_occurences(df: pd.DataFrame) -> None:\n",
    "    \"\"\"\n",
    "    df: pd.DataFrame\n",
    "    returns a plot of character occurences.\n",
    "    \n",
    "    This is function that takes a pandas dataframe of characters and their associated count \n",
    "    and returns a plot of character occurences. \n",
    "    \"\"\"\n",
    "    sns.barplot(x=df.index, y=df[\"count\"])\n",
    "    plt.xticks(rotation=90)\n",
    "    plt.show()\n",
    "\n",
    "plot_character_occurences(df)"
   ]
  }
 ],
 "metadata": {
  "kernelspec": {
   "display_name": "env",
   "language": "python",
   "name": "python3"
  },
  "language_info": {
   "codemirror_mode": {
    "name": "ipython",
    "version": 3
   },
   "file_extension": ".py",
   "mimetype": "text/x-python",
   "name": "python",
   "nbconvert_exporter": "python",
   "pygments_lexer": "ipython3",
   "version": "3.11.8"
  }
 },
 "nbformat": 4,
 "nbformat_minor": 2
}
