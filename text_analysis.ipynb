{
 "cells": [
  {
   "cell_type": "markdown",
   "metadata": {},
   "source": [
    "# Reading 15 million reviews \n",
    "\n",
    "*what is the best way to read 15 million reviews?* "
   ]
  },
  {
   "cell_type": "code",
   "execution_count": 1,
   "metadata": {},
   "outputs": [],
   "source": [
    "import gzip \n",
    "import json\n",
    "import os\n",
    "\n",
    "import pandas as pd"
   ]
  },
  {
   "cell_type": "code",
   "execution_count": 2,
   "metadata": {},
   "outputs": [],
   "source": [
    "DIR = \"./data\""
   ]
  },
  {
   "cell_type": "code",
   "execution_count": 3,
   "metadata": {},
   "outputs": [],
   "source": [
    "def format_data(file_name, head=3_000_000):\n",
    "    # 15739967\n",
    "    count = 0\n",
    "    data = []\n",
    "    with gzip.open(file_name) as fin:\n",
    "        for l in fin:\n",
    "            d = json.loads(l)\n",
    "            print(d)\n",
    "            count += 1\n",
    "            \n",
    "            # only get review_text and review_stars\n",
    "            data.append([d['review_text'], d['n_votes'], d['rating']])\n",
    "            # break if reaches the headth line\n",
    "            if (head is not None) and (count > head):\n",
    "                break\n",
    "    return data"
   ]
  },
  {
   "cell_type": "code",
   "execution_count": 4,
   "metadata": {},
   "outputs": [],
   "source": [
    "\n",
    "# reviews = pd.DataFrame(format_data(os.path.join(\n",
    "#     DIR, \"goodreads_reviews_dedup.json.gz\"))\n",
    "# )\n",
    "\n",
    "reviews = pd.read_csv(\"data/sample.csv\")\n",
    "reviews.columns = [\"review_text\", \"n_votes\", \"rating\"]"
   ]
  },
  {
   "cell_type": "code",
   "execution_count": 5,
   "metadata": {},
   "outputs": [
    {
     "data": {
      "text/html": [
       "<div>\n",
       "<style scoped>\n",
       "    .dataframe tbody tr th:only-of-type {\n",
       "        vertical-align: middle;\n",
       "    }\n",
       "\n",
       "    .dataframe tbody tr th {\n",
       "        vertical-align: top;\n",
       "    }\n",
       "\n",
       "    .dataframe thead th {\n",
       "        text-align: right;\n",
       "    }\n",
       "</style>\n",
       "<table border=\"1\" class=\"dataframe\">\n",
       "  <thead>\n",
       "    <tr style=\"text-align: right;\">\n",
       "      <th></th>\n",
       "      <th>review_text</th>\n",
       "      <th>n_votes</th>\n",
       "      <th>rating</th>\n",
       "    </tr>\n",
       "  </thead>\n",
       "  <tbody>\n",
       "    <tr>\n",
       "      <th>0</th>\n",
       "      <td>Mind blowingly cool. Best science fiction I've...</td>\n",
       "      <td>16</td>\n",
       "      <td>5</td>\n",
       "    </tr>\n",
       "    <tr>\n",
       "      <th>1</th>\n",
       "      <td>This is a special book. It started slow for ab...</td>\n",
       "      <td>28</td>\n",
       "      <td>5</td>\n",
       "    </tr>\n",
       "    <tr>\n",
       "      <th>2</th>\n",
       "      <td>I haven't read a fun mystery book in a while a...</td>\n",
       "      <td>6</td>\n",
       "      <td>3</td>\n",
       "    </tr>\n",
       "    <tr>\n",
       "      <th>3</th>\n",
       "      <td>Fun, fast paced, and disturbing tale of murder...</td>\n",
       "      <td>22</td>\n",
       "      <td>4</td>\n",
       "    </tr>\n",
       "    <tr>\n",
       "      <th>4</th>\n",
       "      <td>A fun book that gives you a sense of living in...</td>\n",
       "      <td>8</td>\n",
       "      <td>4</td>\n",
       "    </tr>\n",
       "    <tr>\n",
       "      <th>...</th>\n",
       "      <td>...</td>\n",
       "      <td>...</td>\n",
       "      <td>...</td>\n",
       "    </tr>\n",
       "    <tr>\n",
       "      <th>9996</th>\n",
       "      <td>It still works, but like an 18th century steam...</td>\n",
       "      <td>0</td>\n",
       "      <td>5</td>\n",
       "    </tr>\n",
       "    <tr>\n",
       "      <th>9997</th>\n",
       "      <td>Devastating. I was surprised to read that when...</td>\n",
       "      <td>1</td>\n",
       "      <td>5</td>\n",
       "    </tr>\n",
       "    <tr>\n",
       "      <th>9998</th>\n",
       "      <td>It was no time to play. It was no time for fun...</td>\n",
       "      <td>2</td>\n",
       "      <td>4</td>\n",
       "    </tr>\n",
       "    <tr>\n",
       "      <th>9999</th>\n",
       "      <td>The lesson here is that you cannot know whethe...</td>\n",
       "      <td>1</td>\n",
       "      <td>2</td>\n",
       "    </tr>\n",
       "    <tr>\n",
       "      <th>10000</th>\n",
       "      <td>A wonderful read, by turns lilting and creepy....</td>\n",
       "      <td>1</td>\n",
       "      <td>4</td>\n",
       "    </tr>\n",
       "  </tbody>\n",
       "</table>\n",
       "<p>10001 rows × 3 columns</p>\n",
       "</div>"
      ],
      "text/plain": [
       "                                             review_text  n_votes  rating\n",
       "0      Mind blowingly cool. Best science fiction I've...       16       5\n",
       "1      This is a special book. It started slow for ab...       28       5\n",
       "2      I haven't read a fun mystery book in a while a...        6       3\n",
       "3      Fun, fast paced, and disturbing tale of murder...       22       4\n",
       "4      A fun book that gives you a sense of living in...        8       4\n",
       "...                                                  ...      ...     ...\n",
       "9996   It still works, but like an 18th century steam...        0       5\n",
       "9997   Devastating. I was surprised to read that when...        1       5\n",
       "9998   It was no time to play. It was no time for fun...        2       4\n",
       "9999   The lesson here is that you cannot know whethe...        1       2\n",
       "10000  A wonderful read, by turns lilting and creepy....        1       4\n",
       "\n",
       "[10001 rows x 3 columns]"
      ]
     },
     "execution_count": 5,
     "metadata": {},
     "output_type": "execute_result"
    }
   ],
   "source": [
    "reviews"
   ]
  },
  {
   "cell_type": "code",
   "execution_count": 6,
   "metadata": {},
   "outputs": [],
   "source": [
    "reviews.to_csv(os.path.join(DIR, \"sample.csv\"), index=False)"
   ]
  },
  {
   "cell_type": "markdown",
   "metadata": {},
   "source": [
    "Reading 15 million reviews is a challenging task. The reviews are stored in a compressed file, and the file is too large to fit into memory. \n",
    "\n",
    "So for now we will read a small subset of the reviews, with the maximum we can extract being 3 million reviews. So an alternate approach is to read the reviews in chunks. \n",
    "\n",
    "In this notebook, we will read the reviews in chunks and process them."
   ]
  },
  {
   "cell_type": "markdown",
   "metadata": {},
   "source": [
    "# EDA"
   ]
  },
  {
   "cell_type": "code",
   "execution_count": 7,
   "metadata": {},
   "outputs": [],
   "source": [
    "import nltk\n",
    "\n",
    "from nltk.corpus import opinion_lexicon\n",
    "from nltk.tokenize import word_tokenize, sent_tokenize\n",
    "from nltk.tag import pos_tag\n",
    "from nltk.corpus import stopwords\n",
    "from nltk.corpus import wordnet\n",
    "from nltk import FreqDist\n",
    "\n",
    "import string\n",
    "\n",
    "import matplotlib.pyplot as plt\n",
    "import seaborn as sns\n",
    "\n",
    "plt.style.use('ggplot')"
   ]
  },
  {
   "cell_type": "code",
   "execution_count": 8,
   "metadata": {},
   "outputs": [
    {
     "name": "stderr",
     "output_type": "stream",
     "text": [
      "[nltk_data] Downloading package opinion_lexicon to\n",
      "[nltk_data]     /Users/jessedoka/nltk_data...\n",
      "[nltk_data]   Package opinion_lexicon is already up-to-date!\n",
      "[nltk_data] Downloading package punkt to /Users/jessedoka/nltk_data...\n",
      "[nltk_data]   Package punkt is already up-to-date!\n",
      "[nltk_data] Downloading package averaged_perceptron_tagger to\n",
      "[nltk_data]     /Users/jessedoka/nltk_data...\n",
      "[nltk_data]   Package averaged_perceptron_tagger is already up-to-\n",
      "[nltk_data]       date!\n",
      "[nltk_data] Downloading package stopwords to\n",
      "[nltk_data]     /Users/jessedoka/nltk_data...\n",
      "[nltk_data]   Package stopwords is already up-to-date!\n"
     ]
    },
    {
     "data": {
      "text/plain": [
       "True"
      ]
     },
     "execution_count": 8,
     "metadata": {},
     "output_type": "execute_result"
    }
   ],
   "source": [
    "nltk.download('opinion_lexicon')\n",
    "nltk.download('punkt')\n",
    "nltk.download('averaged_perceptron_tagger')\n",
    "nltk.download('stopwords')"
   ]
  },
  {
   "cell_type": "markdown",
   "metadata": {},
   "source": [
    "Keeping review text as the main focus, but also keeping track of number of votes and ratings, may also be useful. "
   ]
  },
  {
   "cell_type": "code",
   "execution_count": 9,
   "metadata": {},
   "outputs": [
    {
     "data": {
      "image/png": "[encoded data removed]",
      "text/plain": [
       "<Figure size 640x480 with 1 Axes>"
      ]
     },
     "metadata": {},
     "output_type": "display_data"
    }
   ],
   "source": [
    "ax = sns.countplot(data=reviews, x='rating')"
   ]
  },
  {
   "cell_type": "code",
   "execution_count": 10,
   "metadata": {},
   "outputs": [
    {
     "name": "stdout",
     "output_type": "stream",
     "text": [
      "A wonderful, beautifully written, poignant, subtle, and brilliant novel. \n",
      " This is the story of an English butler of one the great houses, whose self value comes from his duty and his dignity, and who questions his values and his life in the end. It is ultimately a story of regret. It is a story that makes you want to live your life and dedicate yourself to things that you won't regret when you look back. One of the best ways of thinking about regret I've ever come across is from Jeff Bezos in his nerdily titled Regret Minimization Framework. \n",
      " But what I really loved about the novel is how slow and forcefully it builds. I don't think I've read a book that does that so well since Pride and Prejudice. In the beginning you think it's just a butler going on a motoring trip. And at the end, your heart is breaking. \n",
      " Dignity is a big theme in the novel. Stevens attempts to define dignity several times throughout the novel - his definition generally has to do with self-respect and keeping ones emotions in check. But you have to wonder - his is suppression of emotions what leads him to where he ends up? His pushing himself to \"banter\" is a an interesting indication of him trying to break that pattern. \n",
      " \"We may now understand better, too, why my father was so fond of the story of the butler who failed to panic on discovering a tiger under the dining table; it was because he knew instinctively that somewhere in this story lay the kernel of what true 'dignity' is.\" \n",
      " \"What do you think dignity's all about?' The directness of the inquiry did, I admit, take me rather by surprise. 'It's rather a hard thing to explain in a few words, sir,' I said. 'But I suspect it comes down to not removing one's clothing in public.\" \n",
      " In the end, Stevens breaks your heart in two ways: he missed out on the love of his life, AND he realizes that he dedicated his life to serving a man who in the end wasn't the great man he thought he was. Good reminder: prioritize love first. And work on things that matter. \n",
      " Another aspect I loved is just learning about the era and how things in England worked. Fascinating for instance that multi-day stays at large estates were the only way to get a bunch of people together to communicate on an issue. Today, we communicate in very different ways. Seems appealing to try that way. \n",
      " I'll conclude this with another of my favorite quotes from the novel: \n",
      " You've got to enjoy yourself. The evening's the best part of the day. You've done your day's work. Now you can put your feet up and enjoy it. That's how I look at it. Ask anybody, they'll all tell you. The evening's the best part of the day.\n"
     ]
    }
   ],
   "source": [
    "example = reviews.iloc[55]['review_text']\n",
    "print(example)"
   ]
  },
  {
   "cell_type": "code",
   "execution_count": 11,
   "metadata": {},
   "outputs": [],
   "source": [
    "sentences = sent_tokenize(example)"
   ]
  },
  {
   "cell_type": "markdown",
   "metadata": {},
   "source": [
    "This way we can look at specific tokens within each sentence and see how they are distributed. "
   ]
  },
  {
   "cell_type": "code",
   "execution_count": 12,
   "metadata": {},
   "outputs": [],
   "source": [
    "stop_words = set(stopwords.words('english'))"
   ]
  },
  {
   "cell_type": "code",
   "execution_count": 13,
   "metadata": {},
   "outputs": [],
   "source": [
    "def extract_sentiment_terms(sentence):\n",
    "    # Tokenize words and tag part of speech\n",
    "    words = word_tokenize(sentence)\n",
    "    tagged_words = pos_tag(words)\n",
    "    sentiment_terms = set()\n",
    "\n",
    "    for word, tag in tagged_words:\n",
    "        if word.lower() not in stop_words and word not in string.punctuation:\n",
    "            if tag.startswith('JJ') or tag.startswith('RB'):\n",
    "                if word.lower() in opinion_lexicon.positive() or word.lower() in opinion_lexicon.negative():\n",
    "                    sentiment_terms.add(word)\n",
    "\n",
    "    return sentiment_terms\n"
   ]
  },
  {
   "cell_type": "code",
   "execution_count": 14,
   "metadata": {},
   "outputs": [],
   "source": [
    "sentiment_terms = set()\n",
    "for sentence in sentences:\n",
    "    sentiment_terms.update(extract_sentiment_terms(sentence))"
   ]
  },
  {
   "cell_type": "markdown",
   "metadata": {},
   "source": [
    "Huang, S., Niu, Z., & Shi, C. (2014). Automatic construction of domain-specific sentiment lexicon based on constrained label propagation. Knowledge-Based Systems, 56, 191–200. https://doi.org/10.1016/j.knosys.2013.11.009\n",
    "\n",
    "Shows that we can extract sentiment terms from tokenised sentences by identifing adjectives (JJ) and adverbs (RB) that are close to the sentiment term."
   ]
  },
  {
   "cell_type": "code",
   "execution_count": 15,
   "metadata": {},
   "outputs": [
    {
     "data": {
      "image/png": "[encoded data removed]",
      "text/plain": [
       "<Figure size 1000x500 with 1 Axes>"
      ]
     },
     "metadata": {},
     "output_type": "display_data"
    }
   ],
   "source": [
    "# frequency distribution of words \n",
    "\n",
    "processed_reviews = []\n",
    "for review in reviews['review_text'][:1000]:\n",
    "    if isinstance(review, str):  # Check if review is a string\n",
    "        processed_reviews.extend(extract_sentiment_terms(review))\n",
    "\n",
    "freq_dist = FreqDist(processed_reviews)\n",
    "\n",
    "# Get the 30 most common words\n",
    "common_words = freq_dist.most_common(30)\n",
    "\n",
    "# Unzip the list of tuples into two lists\n",
    "words, counts = zip(*common_words)\n",
    "\n",
    "plt.figure(figsize=(10, 5))\n",
    "plt.bar(words, counts)\n",
    "plt.xticks(rotation='vertical')\n",
    "plt.show()"
   ]
  },
  {
   "cell_type": "markdown",
   "metadata": {},
   "source": [
    "when looking at the distribution of the sentiment terms, we can see that the sentiment, as we can see words with positive sentiment are more common than negative sentiment words, and this also corralates with the ratings of the reviews."
   ]
  },
  {
   "cell_type": "code",
   "execution_count": 16,
   "metadata": {},
   "outputs": [
    {
     "data": {
      "text/plain": [
       "['well',\n",
       " 'poignant',\n",
       " 'favorite',\n",
       " 'best',\n",
       " 'fond',\n",
       " 'wonderful',\n",
       " 'beautifully',\n",
       " 'brilliant',\n",
       " 'slow',\n",
       " 'great',\n",
       " 'Good',\n",
       " 'self-respect',\n",
       " 'better',\n",
       " 'interesting',\n",
       " 'hard']"
      ]
     },
     "execution_count": 16,
     "metadata": {},
     "output_type": "execute_result"
    }
   ],
   "source": [
    "sentiment_terms = list(sentiment_terms)\n",
    "sentiment_terms"
   ]
  },
  {
   "cell_type": "markdown",
   "metadata": {},
   "source": [
    "From each sentence we have extracted the sentiment terms, from each sentence and now is in the form of a list. \n",
    "\n",
    "Now we can apply this function to all the reviews in our dataset."
   ]
  },
  {
   "cell_type": "code",
   "execution_count": 17,
   "metadata": {},
   "outputs": [],
   "source": [
    "from gensim.models import Word2Vec"
   ]
  },
  {
   "cell_type": "code",
   "execution_count": 18,
   "metadata": {},
   "outputs": [],
   "source": [
    "def get_synonyms(word):\n",
    "    synonyms = set()\n",
    "    for syn in wordnet.synsets(word):\n",
    "        for lemma in syn.lemmas():\n",
    "            synonyms.add(lemma.name())\n",
    "    return synonyms"
   ]
  },
  {
   "cell_type": "code",
   "execution_count": 19,
   "metadata": {},
   "outputs": [],
   "source": [
    "def learn_word_embeddings(processed_corpus):\n",
    "    # Train a Word2Vec model on the processed corpus\n",
    "    model = Word2Vec(sentences=processed_corpus,\n",
    "                     vector_size=100, window=5, min_count=1, workers=4)\n",
    "    return model       "
   ]
  },
  {
   "cell_type": "code",
   "execution_count": 20,
   "metadata": {},
   "outputs": [
    {
     "name": "stdout",
     "output_type": "stream",
     "text": [
      "well: [('communicate', 0.28808584809303284), ('quotes', 0.25321972370147705), ('somewhere', 0.24334941804409027), ('at', 0.2346959412097931), ('multi-day', 0.23401068150997162), (\"'dignity\", 0.22720478475093842), ('Pride', 0.2154659926891327), ('great', 0.20051124691963196), ('Jeff', 0.20006614923477173), ('instance', 0.19325153529644012)]\n",
      "poignant: [('stays', 0.3171199560165405), (';', 0.31636252999305725), ('done', 0.28950604796409607), ('slow', 0.2707963287830353), ('suppression', 0.207774356007576), ('from', 0.20471633970737457), ('quotes', 0.19958971440792084), ('realizes', 0.19664467871189117), ('value', 0.19638633728027344), ('somewhere', 0.19119834899902344)]\n",
      "favorite: [('In', 0.2623365819454193), ('look', 0.2601579427719116), ('back', 0.2346973419189453), ('Bezos', 0.2192993313074112), ('directness', 0.2123260349035263), ('I', 0.21137048304080963), ('tiger', 0.20688234269618988), ('live', 0.195384681224823), ('my', 0.19369935989379883), ('how', 0.18808841705322266)]\n",
      "best: [('realizes', 0.23023417592048645), ('too', 0.22571638226509094), ('only', 0.20462103188037872), ('get', 0.19011487066745758), ('learning', 0.18639500439167023), ('better', 0.18203595280647278), ('want', 0.17228373885154724), ('AND', 0.16511572897434235), ('it', 0.16018469631671906), ('thing', 0.1594061404466629)]\n",
      "fond: [('wo', 0.22888268530368805), ('together', 0.22239266335964203), ('feet', 0.214213564991951), ('it', 0.2119460254907608), ('serving', 0.20005838572978973), ('throughout', 0.19789491593837738), ('admit', 0.19279401004314423), ('with', 0.18759192526340485), ('era', 0.1859157830476761), ('father', 0.18312083184719086)]\n",
      "wonderful: [('learning', 0.2578434646129608), ('because', 0.24822473526000977), ('for', 0.24581845104694366), ('nerdily', 0.24160487949848175), ('and', 0.24002036452293396), ('tell', 0.2157132476568222), ('knew', 0.2076558619737625), ('Dignity', 0.20188982784748077), ('on', 0.19961823523044586), ('public', 0.1988081932067871)]\n",
      "beautifully: [('way', 0.3137293756008148), ('brilliant', 0.21590270102024078), ('just', 0.21224431693553925), ('worked', 0.2065751701593399), ('motoring', 0.18747937679290771), ('Prejudice', 0.18400397896766663), ('reminder', 0.17456677556037903), ('an', 0.15498602390289307), ('discovering', 0.1491098552942276), ('ends', 0.14691327512264252)]\n",
      "brilliant: [('beginning', 0.2660817801952362), ('tell', 0.23735637962818146), ('whose', 0.2309323102235794), ('beautifully', 0.2159026712179184), ('things', 0.19439123570919037), ('from', 0.1893511414527893), ('issue', 0.18053655326366425), (':', 0.17972107231616974), ('keeping', 0.17918908596038818), ('Minimization', 0.16778628528118134)]\n",
      "slow: [('poignant', 0.27079635858535767), ('done', 0.25222718715667725), ('interesting', 0.23129597306251526), ('few', 0.23062986135482788), ('suppression', 0.2157343327999115), ('great', 0.20311889052391052), ('across', 0.20079770684242249), ('why', 0.1949823945760727), ('tiger', 0.18664711713790894), ('value', 0.18180930614471436)]\n",
      "great: [('bunch', 0.260705828666687), ('heart', 0.23481816053390503), ('two', 0.2317623645067215), ('few', 0.21773211658000946), ('done', 0.21318526566028595), ('worked', 0.2079576551914215), ('What', 0.20710226893424988), ('lay', 0.20607422292232513), ('slow', 0.20311889052391052), ('well', 0.20051124691963196)]\n",
      "Good: [(\"'But\", 0.2631402313709259), ('understand', 0.2548622786998749), ('quotes', 0.2241232544183731), ('It', 0.2123100906610489), ('bunch', 0.20617054402828217), ('Prejudice', 0.18927255272865295), ('since', 0.18418742716312408), ('him', 0.18416845798492432), ('check', 0.18289336562156677), ('himself', 0.18114101886749268)]\n",
      "self-respect: [('to', 0.27013230323791504), ('definition', 0.254643976688385), ('think', 0.251322478055954), ('end', 0.20785002410411835), ('Bezos', 0.2047589272260666), ('we', 0.1956174075603485), ('removing', 0.19488009810447693), (',', 0.18900634348392487), ('values', 0.177210733294487), ('public', 0.17386333644390106)]\n",
      "better: [('?', 0.24885237216949463), ('story', 0.24848635494709015), ('rather', 0.22607670724391937), ('why', 0.22416675090789795), ('words', 0.20660142600536346), ('-', 0.19755029678344727), ('we', 0.19414231181144714), ('few', 0.18502269685268402), ('best', 0.1820359230041504), ('thinking', 0.17002074420452118)]\n",
      "interesting: [('me', 0.28221985697746277), ('titled', 0.25801220536231995), ('all', 0.2510695159435272), ('slow', 0.23129600286483765), ('people', 0.22207562625408173), ('the', 0.21842792630195618), ('was', 0.2175227552652359), ('look', 0.2136588990688324), ('directness', 0.18749427795410156), ('In', 0.18058685958385468)]\n",
      "hard: [('him', 0.3111724555492401), ('One', 0.30055516958236694), ('understand', 0.2127605378627777), ('check', 0.21057236194610596), ('And', 0.1892196089029312), ('big', 0.1883135586977005), ('Now', 0.18094664812088013), ('That', 0.17690786719322205), ('look', 0.17678561806678772), (':', 0.17561882734298706)]\n"
     ]
    }
   ],
   "source": [
    "model = learn_word_embeddings([word_tokenize(word) for word in sentences])\n",
    "\n",
    "for token in sentiment_terms:\n",
    "    if token in model.wv:\n",
    "        print(f\"{token}: {model.wv.most_similar(token)}\")\n",
    "    else:\n",
    "        synonyms = get_synonyms(token)\n",
    "\n",
    "        for synonym in synonyms:\n",
    "            if synonym in model.wv:\n",
    "                print(f\"{synonym}: {model.wv.most_similar(synonym)}\")"
   ]
  },
  {
   "cell_type": "markdown",
   "metadata": {},
   "source": [
    "By tokenising each word in the sentence we can also find similar word pairs that are close to the sentiment term. Using `get_synonyms` we can find similar words to the sentiment term using the WordNet corpus.\n",
    "\n",
    "This can be expanded upon by providing a larger dataset to train on.\n",
    "\n",
    "#### Approach\n",
    "\n",
    "1. Read the reviews in chunks\n",
    "2. Tokenize the reviews and process sentences\n",
    "3. Extract sentiment terms\n",
    "4. Extract similar word pairs\n",
    "5. Train a model on the processesd_corpus\n",
    "\n"
   ]
  },
  {
   "cell_type": "markdown",
   "metadata": {},
   "source": [
    "# Trait Dataset"
   ]
  },
  {
   "cell_type": "code",
   "execution_count": 21,
   "metadata": {},
   "outputs": [],
   "source": [
    "essays = pd.read_csv('data/essays.csv')"
   ]
  },
  {
   "cell_type": "markdown",
   "metadata": {},
   "source": [
    "## Preprocessing"
   ]
  },
  {
   "cell_type": "code",
   "execution_count": 22,
   "metadata": {},
   "outputs": [
    {
     "name": "stderr",
     "output_type": "stream",
     "text": [
      "/var/folders/lg/qth2myc91gj4tfy56qzfn3b40000gn/T/ipykernel_82641/1694335583.py:15: FutureWarning: Downcasting behavior in `replace` is deprecated and will be removed in a future version. To retain the old behavior, explicitly call `result.infer_objects(copy=False)`. To opt-in to the future behavior, set `pd.set_option('future.no_silent_downcasting', True)`\n",
      "  essays = essays.replace({'n': 0, 'y': 1})\n"
     ]
    }
   ],
   "source": [
    "essays = essays.rename(columns={\n",
    "    'TEXT': 'text',\n",
    "    'cEXT': 'extroversion',\n",
    "    'cNEU': 'neuroticism',\n",
    "    'cAGR': 'agreeableness',\n",
    "    'cCON': 'conscientiousness',\n",
    "    'cOPN': 'openness'\n",
    "})\n",
    "\n",
    "# subset the data text + big five\n",
    "\n",
    "essays = essays[['text', 'extroversion', 'neuroticism', 'agreeableness', 'conscientiousness', 'openness']]\n",
    "\n",
    "# convert n and y to 0 and 1\n",
    "essays = essays.replace({'n': 0, 'y': 1})"
   ]
  },
  {
   "cell_type": "code",
   "execution_count": 23,
   "metadata": {},
   "outputs": [
    {
     "data": {
      "text/html": [
       "<div>\n",
       "<style scoped>\n",
       "    .dataframe tbody tr th:only-of-type {\n",
       "        vertical-align: middle;\n",
       "    }\n",
       "\n",
       "    .dataframe tbody tr th {\n",
       "        vertical-align: top;\n",
       "    }\n",
       "\n",
       "    .dataframe thead th {\n",
       "        text-align: right;\n",
       "    }\n",
       "</style>\n",
       "<table border=\"1\" class=\"dataframe\">\n",
       "  <thead>\n",
       "    <tr style=\"text-align: right;\">\n",
       "      <th></th>\n",
       "      <th>text</th>\n",
       "      <th>extroversion</th>\n",
       "      <th>neuroticism</th>\n",
       "      <th>agreeableness</th>\n",
       "      <th>conscientiousness</th>\n",
       "      <th>openness</th>\n",
       "    </tr>\n",
       "  </thead>\n",
       "  <tbody>\n",
       "    <tr>\n",
       "      <th>0</th>\n",
       "      <td>Well, right now I just woke up from a mid-day ...</td>\n",
       "      <td>0</td>\n",
       "      <td>1</td>\n",
       "      <td>1</td>\n",
       "      <td>0</td>\n",
       "      <td>1</td>\n",
       "    </tr>\n",
       "    <tr>\n",
       "      <th>1</th>\n",
       "      <td>Well, here we go with the stream of consciousn...</td>\n",
       "      <td>0</td>\n",
       "      <td>0</td>\n",
       "      <td>1</td>\n",
       "      <td>0</td>\n",
       "      <td>0</td>\n",
       "    </tr>\n",
       "    <tr>\n",
       "      <th>2</th>\n",
       "      <td>An open keyboard and buttons to push. The thin...</td>\n",
       "      <td>0</td>\n",
       "      <td>1</td>\n",
       "      <td>0</td>\n",
       "      <td>1</td>\n",
       "      <td>1</td>\n",
       "    </tr>\n",
       "    <tr>\n",
       "      <th>3</th>\n",
       "      <td>I can't believe it!  It's really happening!  M...</td>\n",
       "      <td>1</td>\n",
       "      <td>0</td>\n",
       "      <td>1</td>\n",
       "      <td>1</td>\n",
       "      <td>0</td>\n",
       "    </tr>\n",
       "    <tr>\n",
       "      <th>4</th>\n",
       "      <td>Well, here I go with the good old stream of co...</td>\n",
       "      <td>1</td>\n",
       "      <td>0</td>\n",
       "      <td>1</td>\n",
       "      <td>0</td>\n",
       "      <td>1</td>\n",
       "    </tr>\n",
       "    <tr>\n",
       "      <th>...</th>\n",
       "      <td>...</td>\n",
       "      <td>...</td>\n",
       "      <td>...</td>\n",
       "      <td>...</td>\n",
       "      <td>...</td>\n",
       "      <td>...</td>\n",
       "    </tr>\n",
       "    <tr>\n",
       "      <th>2462</th>\n",
       "      <td>I'm home. wanted to go to bed but remembe...</td>\n",
       "      <td>0</td>\n",
       "      <td>1</td>\n",
       "      <td>0</td>\n",
       "      <td>1</td>\n",
       "      <td>0</td>\n",
       "    </tr>\n",
       "    <tr>\n",
       "      <th>2463</th>\n",
       "      <td>Stream of consiousnesssskdj. How do you s...</td>\n",
       "      <td>1</td>\n",
       "      <td>1</td>\n",
       "      <td>0</td>\n",
       "      <td>0</td>\n",
       "      <td>1</td>\n",
       "    </tr>\n",
       "    <tr>\n",
       "      <th>2464</th>\n",
       "      <td>It is Wednesday, December 8th and a lot has be...</td>\n",
       "      <td>0</td>\n",
       "      <td>0</td>\n",
       "      <td>1</td>\n",
       "      <td>0</td>\n",
       "      <td>0</td>\n",
       "    </tr>\n",
       "    <tr>\n",
       "      <th>2465</th>\n",
       "      <td>Man this week has been hellish. Anyways, now i...</td>\n",
       "      <td>0</td>\n",
       "      <td>1</td>\n",
       "      <td>0</td>\n",
       "      <td>0</td>\n",
       "      <td>1</td>\n",
       "    </tr>\n",
       "    <tr>\n",
       "      <th>2466</th>\n",
       "      <td>I have just gotten off the phone with brady. I...</td>\n",
       "      <td>0</td>\n",
       "      <td>1</td>\n",
       "      <td>1</td>\n",
       "      <td>0</td>\n",
       "      <td>1</td>\n",
       "    </tr>\n",
       "  </tbody>\n",
       "</table>\n",
       "<p>2467 rows × 6 columns</p>\n",
       "</div>"
      ],
      "text/plain": [
       "                                                   text  extroversion  \\\n",
       "0     Well, right now I just woke up from a mid-day ...             0   \n",
       "1     Well, here we go with the stream of consciousn...             0   \n",
       "2     An open keyboard and buttons to push. The thin...             0   \n",
       "3     I can't believe it!  It's really happening!  M...             1   \n",
       "4     Well, here I go with the good old stream of co...             1   \n",
       "...                                                 ...           ...   \n",
       "2462       I'm home. wanted to go to bed but remembe...             0   \n",
       "2463       Stream of consiousnesssskdj. How do you s...             1   \n",
       "2464  It is Wednesday, December 8th and a lot has be...             0   \n",
       "2465  Man this week has been hellish. Anyways, now i...             0   \n",
       "2466  I have just gotten off the phone with brady. I...             0   \n",
       "\n",
       "      neuroticism  agreeableness  conscientiousness  openness  \n",
       "0               1              1                  0         1  \n",
       "1               0              1                  0         0  \n",
       "2               1              0                  1         1  \n",
       "3               0              1                  1         0  \n",
       "4               0              1                  0         1  \n",
       "...           ...            ...                ...       ...  \n",
       "2462            1              0                  1         0  \n",
       "2463            1              0                  0         1  \n",
       "2464            0              1                  0         0  \n",
       "2465            1              0                  0         1  \n",
       "2466            1              1                  0         1  \n",
       "\n",
       "[2467 rows x 6 columns]"
      ]
     },
     "execution_count": 23,
     "metadata": {},
     "output_type": "execute_result"
    }
   ],
   "source": [
    "essays"
   ]
  },
  {
   "cell_type": "code",
   "execution_count": 24,
   "metadata": {},
   "outputs": [
    {
     "data": {
      "image/png": "[encoded data removed]",
      "text/plain": [
       "<Figure size 1000x500 with 1 Axes>"
      ]
     },
     "metadata": {},
     "output_type": "display_data"
    }
   ],
   "source": [
    "processed_essays = []\n",
    "for essay in essays['text']:\n",
    "    words = word_tokenize(essay)\n",
    "    processed_essays.extend([word.lower() for word in words if word.isalpha() and word.lower() not in stop_words])\n",
    "\n",
    "freq_dist = FreqDist(processed_essays)\n",
    "\n",
    "# Get the 30 most common words\n",
    "common_words = freq_dist.most_common(30)\n",
    "\n",
    "# Unzip the list of tuples into two lists\n",
    "words, counts = zip(*common_words)\n",
    "\n",
    "plt.figure(figsize=(10, 5))\n",
    "plt.bar(words, counts)\n",
    "plt.xticks(rotation='vertical')\n",
    "plt.show()"
   ]
  },
  {
   "cell_type": "code",
   "execution_count": 25,
   "metadata": {},
   "outputs": [
    {
     "data": {
      "image/png": "[encoded data removed]",
      "text/plain": [
       "<Figure size 640x480 with 1 Axes>"
      ]
     },
     "metadata": {},
     "output_type": "display_data"
    }
   ],
   "source": [
    "categories = ['extroversion', 'neuroticism', 'agreeableness', 'conscientiousness', 'openness']\n",
    "\n",
    "counts = [essays[category].sum() for category in categories]\n",
    "\n",
    "plt.pie(counts, labels=categories, autopct='%1.1f%%')\n",
    "plt.show()"
   ]
  },
  {
   "cell_type": "markdown",
   "metadata": {},
   "source": [
    "All traits represent around 20% of the total dataset. The traits are extracted from the reviews and are used to train the model."
   ]
  },
  {
   "cell_type": "code",
   "execution_count": 26,
   "metadata": {},
   "outputs": [],
   "source": [
    "essays.to_pickle('data/essays-preprocessed.pkl')"
   ]
  },
  {
   "cell_type": "markdown",
   "metadata": {},
   "source": [
    "## Training the model"
   ]
  },
  {
   "cell_type": "code",
   "execution_count": 27,
   "metadata": {},
   "outputs": [
    {
     "name": "stderr",
     "output_type": "stream",
     "text": [
      "[nltk_data] Downloading package opinion_lexicon to\n",
      "[nltk_data]     /Users/jessedoka/nltk_data...\n",
      "[nltk_data]   Package opinion_lexicon is already up-to-date!\n",
      "[nltk_data] Downloading package stopwords to\n",
      "[nltk_data]     /Users/jessedoka/nltk_data...\n",
      "[nltk_data]   Package stopwords is already up-to-date!\n",
      "[nltk_data] Downloading package punkt to /Users/jessedoka/nltk_data...\n",
      "[nltk_data]   Package punkt is already up-to-date!\n",
      "[nltk_data] Downloading package averaged_perceptron_tagger to\n",
      "[nltk_data]     /Users/jessedoka/nltk_data...\n",
      "[nltk_data]   Package averaged_perceptron_tagger is already up-to-\n",
      "[nltk_data]       date!\n"
     ]
    }
   ],
   "source": [
    "from sklearn.model_selection import train_test_split\n",
    "from sklearn.metrics import accuracy_score, precision_score, recall_score, f1_score\n",
    "\n",
    "from preprocessing import preprocess_text\n",
    "from tqdm import tqdm\n",
    "import pandas as pd\n",
    "import joblib"
   ]
  },
  {
   "cell_type": "code",
   "execution_count": 28,
   "metadata": {},
   "outputs": [],
   "source": [
    "tqdm.pandas()\n",
    "\n",
    "def load_data(file_path):\n",
    "    # Load Pickled data\n",
    "    df = pd.read_pickle(file_path)\n",
    "\n",
    "    df['preprocessed_text'] = df['text'].progress_apply(lambda x: ' '.join(map(str, preprocess_text(x)))) # type: ignore\n",
    "\n",
    "    return df"
   ]
  },
  {
   "cell_type": "code",
   "execution_count": 29,
   "metadata": {},
   "outputs": [],
   "source": [
    "def evaluate_model(y_test, y_pred):\n",
    "    \n",
    "    accuracy = accuracy_score(y_test, y_pred)\n",
    "    precision = precision_score(y_test, y_pred, average='weighted')\n",
    "    recall = recall_score(y_test, y_pred, average='weighted')\n",
    "    f1 = f1_score(y_test, y_pred, average='weighted')\n",
    "\n",
    "    return accuracy, precision, recall, f1"
   ]
  },
  {
   "cell_type": "code",
   "execution_count": 30,
   "metadata": {},
   "outputs": [],
   "source": [
    "def train_model(df, target_columns, model, model_path):\n",
    "\n",
    "    X = df['preprocessed_text']\n",
    "    y = df[target_columns]\n",
    "\n",
    "    X_train, X_test, y_train, y_test = train_test_split(X, y, test_size=0.2, random_state=42)\n",
    "\n",
    "    model.fit(X_train, y_train)\n",
    "\n",
    "    y_pred = model.predict(X_test)\n",
    "\n",
    "    accuracy, precision, recall, f1 = evaluate_model(y_test, y_pred)\n",
    "\n",
    "    if model_path is not None:\n",
    "        joblib.dump(model, model_path)\n",
    "\n",
    "    # datafrmae to store the results\n",
    "    results = pd.DataFrame({\n",
    "        'accuracy': [accuracy],\n",
    "        'precision': [precision],\n",
    "        'recall': [recall],\n",
    "        'f1': [f1]\n",
    "    })\n",
    "\n",
    "    return model, results"
   ]
  },
  {
   "cell_type": "code",
   "execution_count": 31,
   "metadata": {},
   "outputs": [],
   "source": [
    "def predict(model, test_sentence):\n",
    "    # Preprocess the text\n",
    "    test_sentence_processed = preprocess_text(test_sentence)\n",
    "    test_sentence_processed = ' '.join(map(str, test_sentence_processed)) # type: ignore\n",
    "\n",
    "    # Predicting with each model\n",
    "    return model.predict([test_sentence_processed])\n",
    "    "
   ]
  },
  {
   "cell_type": "code",
   "execution_count": 32,
   "metadata": {},
   "outputs": [],
   "source": [
    "def predict_and_concatenate(models, test_sentence):\n",
    "    predictions = []\n",
    "    for model in models:\n",
    "        \n",
    "        # Preprocess the text\n",
    "        test_sentence_processed = preprocess_text(test_sentence)\n",
    "        test_sentence_processed = ' '.join(map(str, test_sentence_processed)) # type: ignore\n",
    "\n",
    "        # Predicting with each model\n",
    "        pred = model[1].predict([test_sentence_processed])\n",
    "        \n",
    "        # Assuming binary classification, ensuring binary output (0 or 1)\n",
    "        predictions.append(pred)\n",
    "    \n",
    "    # Transposing to get predictions for each sample across all models\n",
    "    predictions_per_sample = list(zip(*predictions))\n",
    "\n",
    "    # Concatenating binary predictions for each sample into a single string\n",
    "    concatenated_predictions = [''.join(map(str, sample_preds)) for sample_preds in predictions_per_sample]\n",
    "\n",
    "    return concatenated_predictions"
   ]
  },
  {
   "cell_type": "code",
   "execution_count": 33,
   "metadata": {},
   "outputs": [],
   "source": [
    "# df = load_data('data/essays.pkl')"
   ]
  },
  {
   "cell_type": "code",
   "execution_count": 34,
   "metadata": {},
   "outputs": [],
   "source": [
    "df = pd.read_pickle('data/essays_preprocessed.pkl')"
   ]
  },
  {
   "cell_type": "code",
   "execution_count": 35,
   "metadata": {},
   "outputs": [
    {
     "data": {
      "text/plain": [
       "0       ['well', ',', 'right', 'woke', 'mid-day', 'nap...\n",
       "1       ['well', ',', 'go', 'stream', 'consciousness',...\n",
       "2       ['open', 'keyboard', 'buttons', 'push', '.', '...\n",
       "3       ['ca', \"n't\", 'believe', '!', \"'s\", 'really', ...\n",
       "4       ['well', ',', 'go', 'good', 'old', 'stream', '...\n",
       "                              ...                        \n",
       "2462    [\"'m\", 'home', '.', 'wanted', 'go', 'bed', 're...\n",
       "2463    ['stream', 'consiousnesssskdj', '.', 'spell', ...\n",
       "2464    ['wednesday', ',', 'december', '8th', 'lot', '...\n",
       "2465    ['man', 'week', 'hellish', '.', 'anyways', ','...\n",
       "2466    ['gotten', 'phone', 'brady', '.', \"'m\", 'tryin...\n",
       "Name: preprocessed_text, Length: 2467, dtype: object"
      ]
     },
     "execution_count": 35,
     "metadata": {},
     "output_type": "execute_result"
    }
   ],
   "source": [
    "df['preprocessed_text']"
   ]
  },
  {
   "cell_type": "code",
   "execution_count": 36,
   "metadata": {},
   "outputs": [],
   "source": [
    "from sklearn.pipeline import Pipeline\n",
    "from sklearn.feature_extraction.text import TfidfVectorizer\n",
    "from sklearn.multiclass import OneVsRestClassifier\n",
    "from sklearn.model_selection import GridSearchCV"
   ]
  },
  {
   "cell_type": "code",
   "execution_count": 37,
   "metadata": {},
   "outputs": [],
   "source": [
    "traits = ['extroversion', 'neuroticism', 'agreeableness', 'conscientiousness', 'openness']"
   ]
  },
  {
   "cell_type": "markdown",
   "metadata": {},
   "source": [
    "### Logistic Regression"
   ]
  },
  {
   "cell_type": "code",
   "execution_count": 38,
   "metadata": {},
   "outputs": [],
   "source": [
    "from sklearn.linear_model import LogisticRegression"
   ]
  },
  {
   "cell_type": "code",
   "execution_count": 39,
   "metadata": {},
   "outputs": [],
   "source": [
    "model = Pipeline([\n",
    "    ('tfidf', TfidfVectorizer()),\n",
    "    ('clf', OneVsRestClassifier(LogisticRegression(max_iter=1000)))\n",
    "])"
   ]
  },
  {
   "cell_type": "code",
   "execution_count": 40,
   "metadata": {},
   "outputs": [
    {
     "data": {
      "text/html": [
       "<div>\n",
       "<style scoped>\n",
       "    .dataframe tbody tr th:only-of-type {\n",
       "        vertical-align: middle;\n",
       "    }\n",
       "\n",
       "    .dataframe tbody tr th {\n",
       "        vertical-align: top;\n",
       "    }\n",
       "\n",
       "    .dataframe thead th {\n",
       "        text-align: right;\n",
       "    }\n",
       "</style>\n",
       "<table border=\"1\" class=\"dataframe\">\n",
       "  <thead>\n",
       "    <tr style=\"text-align: right;\">\n",
       "      <th></th>\n",
       "      <th>accuracy</th>\n",
       "      <th>precision</th>\n",
       "      <th>recall</th>\n",
       "      <th>f1</th>\n",
       "    </tr>\n",
       "  </thead>\n",
       "  <tbody>\n",
       "    <tr>\n",
       "      <th>0</th>\n",
       "      <td>0.072874</td>\n",
       "      <td>0.592626</td>\n",
       "      <td>0.625866</td>\n",
       "      <td>0.60797</td>\n",
       "    </tr>\n",
       "  </tbody>\n",
       "</table>\n",
       "</div>"
      ],
      "text/plain": [
       "   accuracy  precision    recall       f1\n",
       "0  0.072874   0.592626  0.625866  0.60797"
      ]
     },
     "execution_count": 40,
     "metadata": {},
     "output_type": "execute_result"
    }
   ],
   "source": [
    "lr_model = train_model(df, traits, model, None)\n",
    "lr_model[1]"
   ]
  },
  {
   "cell_type": "code",
   "execution_count": 41,
   "metadata": {},
   "outputs": [
    {
     "data": {
      "text/plain": [
       "array([[1, 0, 0, 0, 1]])"
      ]
     },
     "execution_count": 41,
     "metadata": {},
     "output_type": "execute_result"
    }
   ],
   "source": [
    "predict(lr_model[0], 'You')"
   ]
  },
  {
   "cell_type": "code",
   "execution_count": 42,
   "metadata": {},
   "outputs": [
    {
     "name": "stdout",
     "output_type": "stream",
     "text": [
      "Fitting 5 folds for each of 27 candidates, totalling 135 fits\n"
     ]
    },
    {
     "data": {
      "text/html": [
       "<div>\n",
       "<style scoped>\n",
       "    .dataframe tbody tr th:only-of-type {\n",
       "        vertical-align: middle;\n",
       "    }\n",
       "\n",
       "    .dataframe tbody tr th {\n",
       "        vertical-align: top;\n",
       "    }\n",
       "\n",
       "    .dataframe thead th {\n",
       "        text-align: right;\n",
       "    }\n",
       "</style>\n",
       "<table border=\"1\" class=\"dataframe\">\n",
       "  <thead>\n",
       "    <tr style=\"text-align: right;\">\n",
       "      <th></th>\n",
       "      <th>accuracy</th>\n",
       "      <th>precision</th>\n",
       "      <th>recall</th>\n",
       "      <th>f1</th>\n",
       "    </tr>\n",
       "  </thead>\n",
       "  <tbody>\n",
       "    <tr>\n",
       "      <th>0</th>\n",
       "      <td>0.072874</td>\n",
       "      <td>0.595379</td>\n",
       "      <td>0.628945</td>\n",
       "      <td>0.610679</td>\n",
       "    </tr>\n",
       "  </tbody>\n",
       "</table>\n",
       "</div>"
      ],
      "text/plain": [
       "   accuracy  precision    recall        f1\n",
       "0  0.072874   0.595379  0.628945  0.610679"
      ]
     },
     "execution_count": 42,
     "metadata": {},
     "output_type": "execute_result"
    }
   ],
   "source": [
    "parameters = {\n",
    "    'tfidf__max_df': (0.25, 0.5, 0.75),\n",
    "    'tfidf__ngram_range': [(1, 1), (1, 2), (1, 3)],\n",
    "    'clf__estimator__C': [0.1, 1, 10]\n",
    "}\n",
    "\n",
    "grid_search = GridSearchCV(model, parameters, n_jobs=-1, verbose=1)\n",
    "\n",
    "train_model(df, traits, grid_search, None)[1]"
   ]
  },
  {
   "cell_type": "code",
   "execution_count": 43,
   "metadata": {},
   "outputs": [
    {
     "data": {
      "text/plain": [
       "array([[1, 0, 0, 0, 1]])"
      ]
     },
     "execution_count": 43,
     "metadata": {},
     "output_type": "execute_result"
    }
   ],
   "source": [
    "predict(grid_search, 'You')"
   ]
  },
  {
   "cell_type": "markdown",
   "metadata": {},
   "source": [
    "#### Multi Model Approach"
   ]
  },
  {
   "cell_type": "code",
   "execution_count": 44,
   "metadata": {},
   "outputs": [],
   "source": [
    "model = Pipeline([\n",
    "    ('tfidf', TfidfVectorizer()),\n",
    "    ('clf', LogisticRegression(max_iter=1000))\n",
    "])"
   ]
  },
  {
   "cell_type": "code",
   "execution_count": 45,
   "metadata": {},
   "outputs": [
    {
     "name": "stdout",
     "output_type": "stream",
     "text": [
      "Training model for extroversion\n",
      "   accuracy  precision   recall        f1\n",
      "0   0.55668    0.55543  0.55668  0.555871\n",
      "Training model for neuroticism\n",
      "   accuracy  precision    recall        f1\n",
      "0  0.591093   0.595816  0.591093  0.590637\n",
      "Training model for agreeableness\n",
      "   accuracy  precision    recall       f1\n",
      "0  0.564777   0.557906  0.564777  0.55704\n",
      "Training model for conscientiousness\n",
      "   accuracy  precision    recall        f1\n",
      "0  0.558704   0.559926  0.558704  0.559169\n",
      "Training model for openness\n",
      "   accuracy  precision    recall        f1\n",
      "0  0.609312    0.60952  0.609312  0.609393\n"
     ]
    }
   ],
   "source": [
    "lr_models = []\n",
    "lr_metrics = []\n",
    "\n",
    "for t in traits:\n",
    "    model, metrics = train_model(df, t, model, None)\n",
    "    print(f'Training model for {t}') \n",
    "    print(metrics) \n",
    "    lr_models.append((t, model))\n",
    "    lr_metrics.append((t, metrics)) "
   ]
  },
  {
   "cell_type": "code",
   "execution_count": 46,
   "metadata": {},
   "outputs": [
    {
     "data": {
      "text/plain": [
       "['11111']"
      ]
     },
     "execution_count": 46,
     "metadata": {},
     "output_type": "execute_result"
    }
   ],
   "source": [
    "predict_and_concatenate(lr_models, 'I am a very happy person')"
   ]
  },
  {
   "cell_type": "code",
   "execution_count": 47,
   "metadata": {},
   "outputs": [
    {
     "name": "stdout",
     "output_type": "stream",
     "text": [
      "Fitting 5 folds for each of 27 candidates, totalling 135 fits\n"
     ]
    },
    {
     "name": "stdout",
     "output_type": "stream",
     "text": [
      "Training model for extroversion\n",
      "   accuracy  precision    recall        f1\n",
      "0  0.560729   0.559758  0.560729  0.560131\n",
      "Fitting 5 folds for each of 27 candidates, totalling 135 fits\n",
      "Training model for neuroticism\n",
      "   accuracy  precision    recall        f1\n",
      "0  0.609312   0.622196  0.609312  0.605559\n",
      "Fitting 5 folds for each of 27 candidates, totalling 135 fits\n",
      "Training model for agreeableness\n",
      "   accuracy  precision   recall        f1\n",
      "0   0.58502   0.577897  0.58502  0.565757\n",
      "Fitting 5 folds for each of 27 candidates, totalling 135 fits\n",
      "Training model for conscientiousness\n",
      "   accuracy  precision    recall        f1\n",
      "0  0.580972    0.57735  0.580972  0.575112\n",
      "Fitting 5 folds for each of 27 candidates, totalling 135 fits\n",
      "Training model for openness\n",
      "   accuracy  precision    recall        f1\n",
      "0  0.619433    0.62712  0.619433  0.617331\n"
     ]
    }
   ],
   "source": [
    "parameters = {\n",
    "    'tfidf__max_df': (0.25, 0.5, 0.75),\n",
    "    'tfidf__ngram_range': [(1, 1), (1, 2), (1, 3)],\n",
    "    'clf__C': [0.1, 1, 10]  # Corrected parameter\n",
    "}\n",
    "\n",
    "# Update the model in GridSearchCV to the pipeline model\n",
    "grid_search = GridSearchCV(model, parameters, n_jobs=-1, verbose=1)\n",
    "\n",
    "for t in traits:\n",
    "    model, metrics = train_model(df, t, grid_search, None)\n",
    "    print(f'Training model for {t}') \n",
    "    print(metrics) \n",
    "    lr_models.append((t, model))\n",
    "    lr_metrics.append((t, metrics))  "
   ]
  },
  {
   "cell_type": "markdown",
   "metadata": {},
   "source": [
    "### SVM"
   ]
  },
  {
   "cell_type": "code",
   "execution_count": 48,
   "metadata": {},
   "outputs": [],
   "source": [
    "from sklearn.svm import LinearSVC"
   ]
  },
  {
   "cell_type": "code",
   "execution_count": 49,
   "metadata": {},
   "outputs": [],
   "source": [
    "# svm\n",
    "model = Pipeline([\n",
    "    ('tfidf', TfidfVectorizer()),\n",
    "    ('clf', OneVsRestClassifier(LinearSVC(dual=True)))\n",
    "])"
   ]
  },
  {
   "cell_type": "code",
   "execution_count": 50,
   "metadata": {},
   "outputs": [
    {
     "data": {
      "text/html": [
       "<div>\n",
       "<style scoped>\n",
       "    .dataframe tbody tr th:only-of-type {\n",
       "        vertical-align: middle;\n",
       "    }\n",
       "\n",
       "    .dataframe tbody tr th {\n",
       "        vertical-align: top;\n",
       "    }\n",
       "\n",
       "    .dataframe thead th {\n",
       "        text-align: right;\n",
       "    }\n",
       "</style>\n",
       "<table border=\"1\" class=\"dataframe\">\n",
       "  <thead>\n",
       "    <tr style=\"text-align: right;\">\n",
       "      <th></th>\n",
       "      <th>accuracy</th>\n",
       "      <th>precision</th>\n",
       "      <th>recall</th>\n",
       "      <th>f1</th>\n",
       "    </tr>\n",
       "  </thead>\n",
       "  <tbody>\n",
       "    <tr>\n",
       "      <th>0</th>\n",
       "      <td>0.068826</td>\n",
       "      <td>0.587285</td>\n",
       "      <td>0.575058</td>\n",
       "      <td>0.57975</td>\n",
       "    </tr>\n",
       "  </tbody>\n",
       "</table>\n",
       "</div>"
      ],
      "text/plain": [
       "   accuracy  precision    recall       f1\n",
       "0  0.068826   0.587285  0.575058  0.57975"
      ]
     },
     "execution_count": 50,
     "metadata": {},
     "output_type": "execute_result"
    }
   ],
   "source": [
    "svm_model = train_model(df, traits, model, None)\n",
    "svm_model[1]"
   ]
  },
  {
   "cell_type": "code",
   "execution_count": 51,
   "metadata": {},
   "outputs": [
    {
     "data": {
      "text/plain": [
       "array([[1, 0, 0, 1, 1]])"
      ]
     },
     "execution_count": 51,
     "metadata": {},
     "output_type": "execute_result"
    }
   ],
   "source": [
    "predict(svm_model[0], 'You')"
   ]
  },
  {
   "cell_type": "markdown",
   "metadata": {},
   "source": [
    "Using OneVsRestClassifier is a simple way to train a multi-label classification model.\n",
    "\n",
    "But its performance is not good enough. with accuracy of 0.07. "
   ]
  },
  {
   "cell_type": "code",
   "execution_count": 52,
   "metadata": {},
   "outputs": [],
   "source": [
    "model = Pipeline([\n",
    "    ('tfidf', TfidfVectorizer()),\n",
    "    ('clf', LinearSVC(dual=True))\n",
    "])"
   ]
  },
  {
   "cell_type": "code",
   "execution_count": 53,
   "metadata": {},
   "outputs": [
    {
     "name": "stdout",
     "output_type": "stream",
     "text": [
      "Training model for extroversion\n",
      "   accuracy  precision    recall       f1\n",
      "0  0.552632   0.556839  0.552632  0.55332\n",
      "Training model for neuroticism\n",
      "   accuracy  precision    recall        f1\n",
      "0  0.560729   0.566311  0.560729  0.559621\n",
      "Training model for agreeableness\n",
      "   accuracy  precision   recall        f1\n",
      "0   0.54251   0.541299  0.54251  0.541825\n",
      "Training model for conscientiousness\n",
      "   accuracy  precision    recall        f1\n",
      "0  0.558704    0.56162  0.558704  0.559422\n",
      "Training model for openness\n",
      "   accuracy  precision    recall        f1\n",
      "0  0.593117   0.595748  0.593117  0.592909\n"
     ]
    }
   ],
   "source": [
    "svm_models = []\n",
    "svm_metrics = []\n",
    "\n",
    "for t in traits:\n",
    "    model, metrics = train_model(df, t, model, None)\n",
    "    print(f'Training model for {t}') \n",
    "    print(metrics) \n",
    "    svm_models.append((t, model))\n",
    "    svm_metrics.append((t, metrics))\n"
   ]
  },
  {
   "cell_type": "code",
   "execution_count": 54,
   "metadata": {},
   "outputs": [
    {
     "name": "stdout",
     "output_type": "stream",
     "text": [
      "Fitting 5 folds for each of 27 candidates, totalling 135 fits\n",
      "Training model for extroversion\n",
      "   accuracy  precision    recall        f1\n",
      "0  0.554656   0.552504  0.554656  0.552999\n",
      "Fitting 5 folds for each of 27 candidates, totalling 135 fits\n",
      "Training model for neuroticism\n",
      "   accuracy  precision    recall        f1\n",
      "0  0.609312   0.625127  0.609312  0.604154\n",
      "Fitting 5 folds for each of 27 candidates, totalling 135 fits\n",
      "Training model for agreeableness\n",
      "   accuracy  precision    recall        f1\n",
      "0  0.574899    0.56779  0.574899  0.530713\n",
      "Fitting 5 folds for each of 27 candidates, totalling 135 fits\n",
      "Training model for conscientiousness\n",
      "   accuracy  precision    recall        f1\n",
      "0  0.580972   0.578438  0.580972  0.578442\n",
      "Fitting 5 folds for each of 27 candidates, totalling 135 fits\n",
      "Training model for openness\n",
      "   accuracy  precision    recall        f1\n",
      "0  0.615385   0.621015  0.615385  0.614122\n"
     ]
    }
   ],
   "source": [
    "parameters = {\n",
    "    'tfidf__max_df': (0.25, 0.5, 0.75),\n",
    "    'tfidf__ngram_range': [(1, 1), (1, 2), (1, 3)],\n",
    "    'clf__C': [0.1, 1, 10]\n",
    "}\n",
    "\n",
    "grid_search = GridSearchCV(model, parameters, n_jobs=-1, verbose=1)\n",
    "\n",
    "svm_models = []\n",
    "svm_metrics = []\n",
    "\n",
    "for t in traits:\n",
    "    model, metrics = train_model(df, t, grid_search, None)\n",
    "    print(f'Training model for {t}') \n",
    "    print(metrics) \n",
    "    svm_models.append((t, model))\n",
    "    svm_metrics.append((t, metrics))"
   ]
  },
  {
   "cell_type": "code",
   "execution_count": 55,
   "metadata": {},
   "outputs": [
    {
     "data": {
      "text/plain": [
       "['11111']"
      ]
     },
     "execution_count": 55,
     "metadata": {},
     "output_type": "execute_result"
    }
   ],
   "source": [
    "predict_and_concatenate(svm_models, 'I am a very happy person')"
   ]
  },
  {
   "cell_type": "markdown",
   "metadata": {},
   "source": [
    "### Random Forest Classifier "
   ]
  },
  {
   "cell_type": "code",
   "execution_count": 56,
   "metadata": {},
   "outputs": [],
   "source": [
    "from sklearn.ensemble import RandomForestClassifier"
   ]
  },
  {
   "cell_type": "code",
   "execution_count": 57,
   "metadata": {},
   "outputs": [],
   "source": [
    "model = Pipeline([\n",
    "    ('tfidf', TfidfVectorizer()),\n",
    "    ('clf', RandomForestClassifier())\n",
    "])"
   ]
  },
  {
   "cell_type": "code",
   "execution_count": 58,
   "metadata": {},
   "outputs": [
    {
     "name": "stdout",
     "output_type": "stream",
     "text": [
      "Training model for extroversion\n",
      "   accuracy  precision    recall        f1\n",
      "0  0.522267   0.518007  0.522267  0.518468\n",
      "Training model for neuroticism\n",
      "   accuracy  precision    recall        f1\n",
      "0  0.538462   0.538866  0.538462  0.538628\n",
      "Training model for agreeableness\n",
      "   accuracy  precision    recall        f1\n",
      "0  0.562753   0.551328  0.562753  0.539297\n",
      "Training model for conscientiousness\n",
      "   accuracy  precision    recall        f1\n",
      "0  0.526316   0.526946  0.526316  0.526597\n",
      "Training model for openness\n",
      "   accuracy  precision    recall        f1\n",
      "0  0.574899   0.577551  0.574899  0.574627\n"
     ]
    }
   ],
   "source": [
    "rf_models = []\n",
    "rf_metrics = []\n",
    "\n",
    "for t in traits:\n",
    "    model, metrics = train_model(df, t, model, None)\n",
    "    print(f'Training model for {t}') \n",
    "    print(metrics) \n",
    "    rf_models.append((t, model))\n",
    "    rf_metrics.append((t, metrics))"
   ]
  },
  {
   "cell_type": "code",
   "execution_count": 59,
   "metadata": {},
   "outputs": [
    {
     "name": "stdout",
     "output_type": "stream",
     "text": [
      "Fitting 5 folds for each of 81 candidates, totalling 405 fits\n",
      "Training model for extroversion\n",
      "   accuracy  precision    recall        f1\n",
      "0  0.560729   0.554882  0.560729  0.547862\n",
      "Fitting 5 folds for each of 81 candidates, totalling 405 fits\n",
      "Training model for neuroticism\n",
      "   accuracy  precision    recall        f1\n",
      "0  0.578947   0.582487  0.578947  0.578851\n",
      "Fitting 5 folds for each of 81 candidates, totalling 405 fits\n",
      "Training model for agreeableness\n",
      "   accuracy  precision    recall       f1\n",
      "0  0.568826   0.560494  0.568826  0.51128\n",
      "Fitting 5 folds for each of 81 candidates, totalling 405 fits\n",
      "Training model for conscientiousness\n",
      "   accuracy  precision    recall        f1\n",
      "0  0.578947   0.575196  0.578947  0.572837\n",
      "Fitting 5 folds for each of 81 candidates, totalling 405 fits\n",
      "Training model for openness\n",
      "   accuracy  precision    recall        f1\n",
      "0  0.611336   0.615652  0.611336  0.610577\n"
     ]
    }
   ],
   "source": [
    "parameters = {\n",
    "    'tfidf__max_df': (0.25, 0.5, 0.75),\n",
    "    'tfidf__ngram_range': [(1, 1), (1, 2), (1, 3)],\n",
    "    'clf__n_estimators': [50, 100, 200],\n",
    "    'clf__max_depth': [10, 20, 30]\n",
    "}\n",
    "\n",
    "grid_search = GridSearchCV(model, parameters, n_jobs=-1, verbose=1)\n",
    "\n",
    "rf_models = []\n",
    "rf_metrics = []\n",
    "\n",
    "for t in traits:\n",
    "    model, metrics = train_model(df, t, grid_search, None)\n",
    "    print(f'Training model for {t}') \n",
    "    print(metrics) \n",
    "    rf_models.append((t, model))\n",
    "    rf_metrics.append((t, metrics))"
   ]
  },
  {
   "cell_type": "code",
   "execution_count": 60,
   "metadata": {},
   "outputs": [
    {
     "data": {
      "text/plain": [
       "['11111']"
      ]
     },
     "execution_count": 60,
     "metadata": {},
     "output_type": "execute_result"
    }
   ],
   "source": [
    "predict_and_concatenate(rf_models, 'I am a very happy person')"
   ]
  },
  {
   "cell_type": "markdown",
   "metadata": {},
   "source": [
    "## BERT Model "
   ]
  },
  {
   "cell_type": "code",
   "execution_count": 61,
   "metadata": {},
   "outputs": [
    {
     "name": "stderr",
     "output_type": "stream",
     "text": [
      "/Users/jessedoka/dev/LCT/env/lib/python3.11/site-packages/tqdm/auto.py:21: TqdmWarning: IProgress not found. Please update jupyter and ipywidgets. See https://ipywidgets.readthedocs.io/en/stable/user_install.html\n",
      "  from .autonotebook import tqdm as notebook_tqdm\n"
     ]
    }
   ],
   "source": [
    "import torch\n",
    "from torch.utils.data import Dataset\n",
    "from transformers import BertTokenizer, BertForSequenceClassification, AdamW\n",
    "\n",
    "# Split data into training and testing sets\n",
    "train_texts, val_texts, train_labels, val_labels = train_test_split(df[\"preprocessed_text\"], df[traits], test_size=0.2, random_state=42)\n"
   ]
  },
  {
   "cell_type": "code",
   "execution_count": 62,
   "metadata": {},
   "outputs": [],
   "source": [
    "tokenizer = BertTokenizer.from_pretrained('bert-base-uncased')\n",
    "\n",
    "# Tokenize data\n",
    "train_encodings = tokenizer(list(train_texts), truncation=True, padding=True, max_length=512)\n",
    "val_encodings = tokenizer(list(val_texts), truncation=True, padding=True, max_length=512)\n",
    "\n"
   ]
  },
  {
   "cell_type": "code",
   "execution_count": 63,
   "metadata": {},
   "outputs": [],
   "source": [
    "class PersonalityDataset(Dataset):\n",
    "    def __init__(self, encodings, labels):\n",
    "        self.encodings = encodings\n",
    "        self.labels = labels\n",
    "\n",
    "    def __getitem__(self, idx):\n",
    "        item = {key: torch.tensor(val[idx]) for key, val in self.encodings.items()}\n",
    "        item['labels'] = torch.tensor(self.labels.iloc[idx].values, dtype=torch.float)\n",
    "        return item\n",
    "\n",
    "    def __len__(self):\n",
    "        return len(self.labels)\n",
    "\n",
    "train_dataset = PersonalityDataset(train_encodings, train_labels)\n",
    "val_dataset = PersonalityDataset(val_encodings, val_labels)"
   ]
  },
  {
   "cell_type": "code",
   "execution_count": 64,
   "metadata": {},
   "outputs": [
    {
     "name": "stderr",
     "output_type": "stream",
     "text": [
      "Some weights of BertForSequenceClassification were not initialized from the model checkpoint at bert-base-uncased and are newly initialized: ['classifier.bias', 'classifier.weight']\n",
      "You should probably TRAIN this model on a down-stream task to be able to use it for predictions and inference.\n"
     ]
    }
   ],
   "source": [
    "from transformers import BertForSequenceClassification\n",
    "\n",
    "model = BertForSequenceClassification.from_pretrained('bert-base-uncased', num_labels=len(df[traits].columns))"
   ]
  },
  {
   "cell_type": "code",
   "execution_count": 65,
   "metadata": {},
   "outputs": [
    {
     "name": "stderr",
     "output_type": "stream",
     "text": [
      "/Users/jessedoka/dev/LCT/env/lib/python3.11/site-packages/accelerate/accelerator.py:436: FutureWarning: Passing the following arguments to `Accelerator` is deprecated and will be removed in version 1.0 of Accelerate: dict_keys(['dispatch_batches', 'split_batches', 'even_batches', 'use_seedable_sampler']). Please pass an `accelerate.DataLoaderConfiguration` instead: \n",
      "dataloader_config = DataLoaderConfiguration(dispatch_batches=None, split_batches=False, even_batches=True, use_seedable_sampler=True)\n",
      "  warnings.warn(\n",
      "  0%|          | 1/741 [04:33<56:09:46, 273.23s/it]"
     ]
    }
   ],
   "source": [
    "from torch.optim import AdamW\n",
    "from transformers import Trainer, TrainingArguments\n",
    "\n",
    "training_args = TrainingArguments(\n",
    "    output_dir='./results',          # output directory\n",
    "    num_train_epochs=3,              # number of training epochs\n",
    "    per_device_train_batch_size=8,   # batch size for training\n",
    "    per_device_eval_batch_size=16,   # batch size for evaluation\n",
    "    warmup_steps=500,                # number of warmup steps for learning rate scheduler\n",
    "    weight_decay=0.01,               # strength of weight decay\n",
    "    logging_dir='./logs',            # directory for storing logs\n",
    "    logging_steps=10,\n",
    ")\n",
    "\n",
    "trainer = Trainer(\n",
    "    model=model,                         # the instantiated 🤗 Transformers model to be trained\n",
    "    args=training_args,                  # training arguments, defined above\n",
    "    train_dataset=train_dataset,         # training dataset\n",
    "    eval_dataset=val_dataset             # evaluation dataset\n",
    ")\n",
    "\n",
    "trainer.train()"
   ]
  },
  {
   "cell_type": "code",
   "execution_count": null,
   "metadata": {},
   "outputs": [],
   "source": [
    "trainer.evaluate()"
   ]
  },
  {
   "cell_type": "markdown",
   "metadata": {},
   "source": [
    "# LIWC classification"
   ]
  },
  {
   "cell_type": "code",
   "execution_count": null,
   "metadata": {},
   "outputs": [],
   "source": [
    "import liwc\n",
    "\n",
    "parse, category_name = liwc.load_token_parser('data/LIWC2007_English100131.dic')"
   ]
  },
  {
   "cell_type": "code",
   "execution_count": null,
   "metadata": {},
   "outputs": [
    {
     "data": {
      "text/plain": [
       "{'i': ['funct', 'pronoun', 'ppron', 'i'],\n",
       " 'care': ['verb', 'present', 'affect', 'posemo'],\n",
       " 'about': ['funct', 'adverb', 'preps'],\n",
       " 'you': ['funct', 'pronoun', 'ppron', 'you', 'social'],\n",
       " 'abdomen': ['bio', 'body']}"
      ]
     },
     "execution_count": 69,
     "metadata": {},
     "output_type": "execute_result"
    }
   ],
   "source": [
    "# LIWC 2007\n",
    "from nltk.tokenize import word_tokenize\n",
    "\n",
    "sentences = '''i care about you abdomen'''\n",
    "tokens = word_tokenize(sentences.lower())\n",
    "\n",
    "# List of lists of categories for each token\n",
    "matches = {token : [category for category in parse(token)] for token in tokens}\n",
    "matches"
   ]
  },
  {
   "cell_type": "markdown",
   "metadata": {},
   "source": [
    "Words that do not appear in the LIWC dictionary are not identified. \n",
    "\n",
    "The LIWC dictionary is not perfect, but it is a good starting point, and it is easy to use.\n",
    "\n",
    "One Solution is to use the LIWC dictionary to identify the words that are not in the dictionary, and then use a different method to identify the words that are not in the dictionary, such as another classification model. "
   ]
  },
  {
   "cell_type": "code",
   "execution_count": null,
   "metadata": {},
   "outputs": [
    {
     "data": {
      "text/plain": [
       "4484"
      ]
     },
     "execution_count": 70,
     "metadata": {},
     "output_type": "execute_result"
    }
   ],
   "source": [
    "# parse every word in LIWC2007_English100131.dic\n",
    "from liwc import read_dic\n",
    "from collections import defaultdict\n",
    "\n",
    "lexicon, category_names = read_dic('data/LIWC2007_English100131.dic')\n",
    "\n",
    "len(lexicon)"
   ]
  },
  {
   "cell_type": "code",
   "execution_count": null,
   "metadata": {},
   "outputs": [],
   "source": [
    "# create a dataframe to store the lexicon (word, category)\n",
    "\n",
    "liwc_lexicon = defaultdict(list)\n",
    "for word, categories in lexicon.items():\n",
    "    liwc_lexicon['word'].append(word_tokenize(word)[0])\n",
    "    liwc_lexicon['categories'].append(categories)\n",
    "\n",
    "liwc_lexicon = pd.DataFrame(liwc_lexicon)\n",
    "\n",
    "liwc_lexicon.head()\n",
    "liwc_lexicon.to_csv('data/liwc_lexicon.csv', index=False)"
   ]
  },
  {
   "cell_type": "code",
   "execution_count": null,
   "metadata": {},
   "outputs": [
    {
     "data": {
      "text/html": [
       "<div>\n",
       "<style scoped>\n",
       "    .dataframe tbody tr th:only-of-type {\n",
       "        vertical-align: middle;\n",
       "    }\n",
       "\n",
       "    .dataframe tbody tr th {\n",
       "        vertical-align: top;\n",
       "    }\n",
       "\n",
       "    .dataframe thead th {\n",
       "        text-align: right;\n",
       "    }\n",
       "</style>\n",
       "<table border=\"1\" class=\"dataframe\">\n",
       "  <thead>\n",
       "    <tr style=\"text-align: right;\">\n",
       "      <th></th>\n",
       "      <th>preprocessed_text</th>\n",
       "      <th>funct</th>\n",
       "      <th>pronoun</th>\n",
       "      <th>ppron</th>\n",
       "      <th>i</th>\n",
       "      <th>we</th>\n",
       "      <th>you</th>\n",
       "      <th>shehe</th>\n",
       "      <th>they</th>\n",
       "      <th>ipron</th>\n",
       "      <th>...</th>\n",
       "      <th>work</th>\n",
       "      <th>achieve</th>\n",
       "      <th>leisure</th>\n",
       "      <th>home</th>\n",
       "      <th>money</th>\n",
       "      <th>relig</th>\n",
       "      <th>death</th>\n",
       "      <th>assent</th>\n",
       "      <th>nonfl</th>\n",
       "      <th>filler</th>\n",
       "    </tr>\n",
       "  </thead>\n",
       "  <tbody>\n",
       "    <tr>\n",
       "      <th>0</th>\n",
       "      <td>a</td>\n",
       "      <td>1</td>\n",
       "      <td>0</td>\n",
       "      <td>0</td>\n",
       "      <td>0</td>\n",
       "      <td>0</td>\n",
       "      <td>0</td>\n",
       "      <td>0</td>\n",
       "      <td>0</td>\n",
       "      <td>0</td>\n",
       "      <td>...</td>\n",
       "      <td>0</td>\n",
       "      <td>0</td>\n",
       "      <td>0</td>\n",
       "      <td>0</td>\n",
       "      <td>0</td>\n",
       "      <td>0</td>\n",
       "      <td>0</td>\n",
       "      <td>0</td>\n",
       "      <td>0</td>\n",
       "      <td>0</td>\n",
       "    </tr>\n",
       "    <tr>\n",
       "      <th>1</th>\n",
       "      <td>abandon</td>\n",
       "      <td>0</td>\n",
       "      <td>0</td>\n",
       "      <td>0</td>\n",
       "      <td>0</td>\n",
       "      <td>0</td>\n",
       "      <td>0</td>\n",
       "      <td>0</td>\n",
       "      <td>0</td>\n",
       "      <td>0</td>\n",
       "      <td>...</td>\n",
       "      <td>0</td>\n",
       "      <td>0</td>\n",
       "      <td>0</td>\n",
       "      <td>0</td>\n",
       "      <td>0</td>\n",
       "      <td>0</td>\n",
       "      <td>0</td>\n",
       "      <td>0</td>\n",
       "      <td>0</td>\n",
       "      <td>0</td>\n",
       "    </tr>\n",
       "    <tr>\n",
       "      <th>2</th>\n",
       "      <td>abdomen</td>\n",
       "      <td>0</td>\n",
       "      <td>0</td>\n",
       "      <td>0</td>\n",
       "      <td>0</td>\n",
       "      <td>0</td>\n",
       "      <td>0</td>\n",
       "      <td>0</td>\n",
       "      <td>0</td>\n",
       "      <td>0</td>\n",
       "      <td>...</td>\n",
       "      <td>0</td>\n",
       "      <td>0</td>\n",
       "      <td>0</td>\n",
       "      <td>0</td>\n",
       "      <td>0</td>\n",
       "      <td>0</td>\n",
       "      <td>0</td>\n",
       "      <td>0</td>\n",
       "      <td>0</td>\n",
       "      <td>0</td>\n",
       "    </tr>\n",
       "    <tr>\n",
       "      <th>3</th>\n",
       "      <td>abilit</td>\n",
       "      <td>0</td>\n",
       "      <td>0</td>\n",
       "      <td>0</td>\n",
       "      <td>0</td>\n",
       "      <td>0</td>\n",
       "      <td>0</td>\n",
       "      <td>0</td>\n",
       "      <td>0</td>\n",
       "      <td>0</td>\n",
       "      <td>...</td>\n",
       "      <td>0</td>\n",
       "      <td>1</td>\n",
       "      <td>0</td>\n",
       "      <td>0</td>\n",
       "      <td>0</td>\n",
       "      <td>0</td>\n",
       "      <td>0</td>\n",
       "      <td>0</td>\n",
       "      <td>0</td>\n",
       "      <td>0</td>\n",
       "    </tr>\n",
       "    <tr>\n",
       "      <th>4</th>\n",
       "      <td>able</td>\n",
       "      <td>0</td>\n",
       "      <td>0</td>\n",
       "      <td>0</td>\n",
       "      <td>0</td>\n",
       "      <td>0</td>\n",
       "      <td>0</td>\n",
       "      <td>0</td>\n",
       "      <td>0</td>\n",
       "      <td>0</td>\n",
       "      <td>...</td>\n",
       "      <td>0</td>\n",
       "      <td>1</td>\n",
       "      <td>0</td>\n",
       "      <td>0</td>\n",
       "      <td>0</td>\n",
       "      <td>0</td>\n",
       "      <td>0</td>\n",
       "      <td>0</td>\n",
       "      <td>0</td>\n",
       "      <td>0</td>\n",
       "    </tr>\n",
       "  </tbody>\n",
       "</table>\n",
       "<p>5 rows × 65 columns</p>\n",
       "</div>"
      ],
      "text/plain": [
       "  preprocessed_text  funct  pronoun  ppron  i  we  you  shehe  they  ipron  \\\n",
       "0                 a      1        0      0  0   0    0      0     0      0   \n",
       "1           abandon      0        0      0  0   0    0      0     0      0   \n",
       "2           abdomen      0        0      0  0   0    0      0     0      0   \n",
       "3            abilit      0        0      0  0   0    0      0     0      0   \n",
       "4              able      0        0      0  0   0    0      0     0      0   \n",
       "\n",
       "   ...  work  achieve  leisure  home  money  relig  death  assent  nonfl  \\\n",
       "0  ...     0        0        0     0      0      0      0       0      0   \n",
       "1  ...     0        0        0     0      0      0      0       0      0   \n",
       "2  ...     0        0        0     0      0      0      0       0      0   \n",
       "3  ...     0        1        0     0      0      0      0       0      0   \n",
       "4  ...     0        1        0     0      0      0      0       0      0   \n",
       "\n",
       "   filler  \n",
       "0       0  \n",
       "1       0  \n",
       "2       0  \n",
       "3       0  \n",
       "4       0  \n",
       "\n",
       "[5 rows x 65 columns]"
      ]
     },
     "execution_count": 72,
     "metadata": {},
     "output_type": "execute_result"
    }
   ],
   "source": [
    "liwc_lexicon = defaultdict(list)\n",
    "for word, categories in lexicon.items():\n",
    "    liwc_lexicon['preprocessed_text'].append(word_tokenize(word)[0])\n",
    "    for category in category_names:\n",
    "        liwc_lexicon[category].append(int(category in categories))\n",
    "\n",
    "liwc_lexicon = pd.DataFrame(liwc_lexicon)\n",
    "\n",
    "liwc_lexicon.head()"
   ]
  },
  {
   "cell_type": "code",
   "execution_count": null,
   "metadata": {},
   "outputs": [],
   "source": [
    "liwc_model = Pipeline([\n",
    "    ('tfidf', TfidfVectorizer()),\n",
    "    ('clf', LinearSVC(dual=True))\n",
    "])"
   ]
  },
  {
   "cell_type": "code",
   "execution_count": null,
   "metadata": {},
   "outputs": [
    {
     "name": "stdout",
     "output_type": "stream",
     "text": [
      "Training model for funct\n",
      "   accuracy  precision    recall       f1\n",
      "0  0.911929   0.915271  0.911929  0.88497\n",
      "Training model for pronoun\n",
      "   accuracy  precision    recall        f1\n",
      "0  0.982163   0.980692  0.982163  0.978332\n",
      "Training model for ppron\n",
      "   accuracy  precision    recall       f1\n",
      "0  0.989967   0.989061  0.989967  0.98846\n",
      "Training model for i\n",
      "   accuracy  precision   recall        f1\n",
      "0   0.99777   0.995546  0.99777  0.996657\n",
      "Training model for we\n",
      "   accuracy  precision   recall        f1\n",
      "0   0.99777   0.997775  0.99777  0.997214\n",
      "Training model for you\n",
      "   accuracy  precision    recall        f1\n",
      "0  0.998885   0.998886  0.998885  0.998774\n",
      "Training model for shehe\n",
      "   accuracy  precision    recall        f1\n",
      "0  0.998885   0.998886  0.998885  0.998774\n",
      "Training model for they\n",
      "   accuracy  precision    recall        f1\n",
      "0  0.996656   0.996286  0.996656  0.996418\n",
      "Training model for ipron\n",
      "   accuracy  precision    recall        f1\n",
      "0  0.992196   0.992257  0.992196  0.989177\n",
      "Training model for article\n",
      "   accuracy  precision    recall        f1\n",
      "0  0.998885   0.997772  0.998885  0.998328\n",
      "Training model for verb\n",
      "   accuracy  precision    recall        f1\n",
      "0  0.925307   0.921709  0.925307  0.901925\n",
      "Training model for auxverb\n",
      "   accuracy  precision    recall        f1\n",
      "0  0.972129   0.967527  0.972129  0.967224\n",
      "Training model for past\n",
      "   accuracy  precision    recall        f1\n",
      "0  0.972129   0.972909  0.972129  0.961089\n",
      "Training model for present\n",
      "   accuracy  precision    recall        f1\n",
      "0  0.963211   0.952928  0.963211  0.948124\n",
      "Training model for future\n",
      "   accuracy  precision    recall       f1\n",
      "0  0.986622   0.986801  0.986622  0.98165\n",
      "Training model for adverb\n",
      "   accuracy  precision    recall        f1\n",
      "0  0.981048   0.962455  0.981048  0.971663\n"
     ]
    },
    {
     "name": "stderr",
     "output_type": "stream",
     "text": [
      "/Users/jessedoka/dev/LCT/env/lib/python3.11/site-packages/sklearn/metrics/_classification.py:1509: UndefinedMetricWarning: Precision is ill-defined and being set to 0.0 in labels with no predicted samples. Use `zero_division` parameter to control this behavior.\n",
      "  _warn_prf(average, modifier, f\"{metric.capitalize()} is\", len(result))\n",
      "/Users/jessedoka/dev/LCT/env/lib/python3.11/site-packages/sklearn/metrics/_classification.py:1509: UndefinedMetricWarning: Precision is ill-defined and being set to 0.0 in labels with no predicted samples. Use `zero_division` parameter to control this behavior.\n",
      "  _warn_prf(average, modifier, f\"{metric.capitalize()} is\", len(result))\n",
      "/Users/jessedoka/dev/LCT/env/lib/python3.11/site-packages/sklearn/metrics/_classification.py:1509: UndefinedMetricWarning: Precision is ill-defined and being set to 0.0 in labels with no predicted samples. Use `zero_division` parameter to control this behavior.\n",
      "  _warn_prf(average, modifier, f\"{metric.capitalize()} is\", len(result))\n",
      "/Users/jessedoka/dev/LCT/env/lib/python3.11/site-packages/sklearn/metrics/_classification.py:1509: UndefinedMetricWarning: Precision is ill-defined and being set to 0.0 in labels with no predicted samples. Use `zero_division` parameter to control this behavior.\n",
      "  _warn_prf(average, modifier, f\"{metric.capitalize()} is\", len(result))\n",
      "/Users/jessedoka/dev/LCT/env/lib/python3.11/site-packages/sklearn/metrics/_classification.py:1509: UndefinedMetricWarning: Precision is ill-defined and being set to 0.0 in labels with no predicted samples. Use `zero_division` parameter to control this behavior.\n",
      "  _warn_prf(average, modifier, f\"{metric.capitalize()} is\", len(result))\n",
      "/Users/jessedoka/dev/LCT/env/lib/python3.11/site-packages/sklearn/metrics/_classification.py:1509: UndefinedMetricWarning: Precision is ill-defined and being set to 0.0 in labels with no predicted samples. Use `zero_division` parameter to control this behavior.\n",
      "  _warn_prf(average, modifier, f\"{metric.capitalize()} is\", len(result))\n"
     ]
    },
    {
     "name": "stdout",
     "output_type": "stream",
     "text": [
      "Training model for preps\n",
      "   accuracy  precision    recall        f1\n",
      "0  0.985507   0.971225  0.985507  0.978314\n",
      "Training model for conj\n",
      "   accuracy  precision    recall        f1\n",
      "0  0.991081   0.982242  0.991081  0.986642\n",
      "Training model for negate\n",
      "   accuracy  precision    recall        f1\n",
      "0  0.983278   0.973379  0.983278  0.978303\n",
      "Training model for quant\n",
      "   accuracy  precision    recall        f1\n",
      "0  0.978818   0.958085  0.978818  0.968341\n",
      "Training model for number\n",
      "   accuracy  precision    recall        f1\n",
      "0  0.993311   0.986667  0.993311  0.989978\n",
      "Training model for swear\n",
      "   accuracy  precision    recall        f1\n",
      "0  0.989967   0.980034  0.989967  0.984975\n",
      "Training model for social\n",
      "   accuracy  precision    recall        f1\n",
      "0  0.914158   0.921661  0.914158  0.885799\n",
      "Training model for family\n",
      "   accuracy  precision    recall        f1\n",
      "0  0.983278   0.983558  0.983278  0.977376\n",
      "Training model for friend\n",
      "   accuracy  precision    recall        f1\n",
      "0  0.993311   0.986667  0.993311  0.989978\n",
      "Training model for humans\n",
      "   accuracy  precision    recall        f1\n",
      "0  0.991081   0.991161  0.991081  0.988553\n",
      "Training model for affect\n",
      "   accuracy  precision    recall        f1\n",
      "0  0.799331    0.63893  0.799331  0.710186\n",
      "Training model for posemo\n",
      "   accuracy  precision    recall        f1\n",
      "0  0.919732   0.845908  0.919732  0.881277\n",
      "Training model for negemo\n",
      "   accuracy  precision    recall        f1\n",
      "0  0.879599   0.773694  0.879599  0.823254\n",
      "Training model for anx\n",
      "   accuracy  precision    recall        f1\n",
      "0  0.981048   0.962455  0.981048  0.971663\n",
      "Training model for anger\n",
      "   accuracy  precision    recall        f1\n",
      "0  0.949833   0.902182  0.949833  0.925395\n",
      "Training model for sad\n",
      "   accuracy  precision    recall        f1\n",
      "0  0.982163   0.964644  0.982163  0.973324\n",
      "Training model for cogmech\n",
      "   accuracy  precision    recall        f1\n",
      "0  0.835006   0.862351  0.835006  0.764193\n"
     ]
    },
    {
     "name": "stderr",
     "output_type": "stream",
     "text": [
      "/Users/jessedoka/dev/LCT/env/lib/python3.11/site-packages/sklearn/metrics/_classification.py:1509: UndefinedMetricWarning: Precision is ill-defined and being set to 0.0 in labels with no predicted samples. Use `zero_division` parameter to control this behavior.\n",
      "  _warn_prf(average, modifier, f\"{metric.capitalize()} is\", len(result))\n",
      "/Users/jessedoka/dev/LCT/env/lib/python3.11/site-packages/sklearn/metrics/_classification.py:1509: UndefinedMetricWarning: Precision is ill-defined and being set to 0.0 in labels with no predicted samples. Use `zero_division` parameter to control this behavior.\n",
      "  _warn_prf(average, modifier, f\"{metric.capitalize()} is\", len(result))\n",
      "/Users/jessedoka/dev/LCT/env/lib/python3.11/site-packages/sklearn/metrics/_classification.py:1509: UndefinedMetricWarning: Precision is ill-defined and being set to 0.0 in labels with no predicted samples. Use `zero_division` parameter to control this behavior.\n",
      "  _warn_prf(average, modifier, f\"{metric.capitalize()} is\", len(result))\n",
      "/Users/jessedoka/dev/LCT/env/lib/python3.11/site-packages/sklearn/metrics/_classification.py:1509: UndefinedMetricWarning: Precision is ill-defined and being set to 0.0 in labels with no predicted samples. Use `zero_division` parameter to control this behavior.\n",
      "  _warn_prf(average, modifier, f\"{metric.capitalize()} is\", len(result))\n",
      "/Users/jessedoka/dev/LCT/env/lib/python3.11/site-packages/sklearn/metrics/_classification.py:1509: UndefinedMetricWarning: Precision is ill-defined and being set to 0.0 in labels with no predicted samples. Use `zero_division` parameter to control this behavior.\n",
      "  _warn_prf(average, modifier, f\"{metric.capitalize()} is\", len(result))\n",
      "/Users/jessedoka/dev/LCT/env/lib/python3.11/site-packages/sklearn/metrics/_classification.py:1509: UndefinedMetricWarning: Precision is ill-defined and being set to 0.0 in labels with no predicted samples. Use `zero_division` parameter to control this behavior.\n",
      "  _warn_prf(average, modifier, f\"{metric.capitalize()} is\", len(result))\n",
      "/Users/jessedoka/dev/LCT/env/lib/python3.11/site-packages/sklearn/metrics/_classification.py:1509: UndefinedMetricWarning: Precision is ill-defined and being set to 0.0 in labels with no predicted samples. Use `zero_division` parameter to control this behavior.\n",
      "  _warn_prf(average, modifier, f\"{metric.capitalize()} is\", len(result))\n",
      "/Users/jessedoka/dev/LCT/env/lib/python3.11/site-packages/sklearn/metrics/_classification.py:1509: UndefinedMetricWarning: Precision is ill-defined and being set to 0.0 in labels with no predicted samples. Use `zero_division` parameter to control this behavior.\n",
      "  _warn_prf(average, modifier, f\"{metric.capitalize()} is\", len(result))\n",
      "/Users/jessedoka/dev/LCT/env/lib/python3.11/site-packages/sklearn/metrics/_classification.py:1509: UndefinedMetricWarning: Precision is ill-defined and being set to 0.0 in labels with no predicted samples. Use `zero_division` parameter to control this behavior.\n",
      "  _warn_prf(average, modifier, f\"{metric.capitalize()} is\", len(result))\n",
      "/Users/jessedoka/dev/LCT/env/lib/python3.11/site-packages/sklearn/metrics/_classification.py:1509: UndefinedMetricWarning: Precision is ill-defined and being set to 0.0 in labels with no predicted samples. Use `zero_division` parameter to control this behavior.\n",
      "  _warn_prf(average, modifier, f\"{metric.capitalize()} is\", len(result))\n",
      "/Users/jessedoka/dev/LCT/env/lib/python3.11/site-packages/sklearn/metrics/_classification.py:1509: UndefinedMetricWarning: Precision is ill-defined and being set to 0.0 in labels with no predicted samples. Use `zero_division` parameter to control this behavior.\n",
      "  _warn_prf(average, modifier, f\"{metric.capitalize()} is\", len(result))\n",
      "/Users/jessedoka/dev/LCT/env/lib/python3.11/site-packages/sklearn/metrics/_classification.py:1509: UndefinedMetricWarning: Precision is ill-defined and being set to 0.0 in labels with no predicted samples. Use `zero_division` parameter to control this behavior.\n",
      "  _warn_prf(average, modifier, f\"{metric.capitalize()} is\", len(result))\n"
     ]
    },
    {
     "name": "stdout",
     "output_type": "stream",
     "text": [
      "Training model for insight\n",
      "   accuracy  precision    recall        f1\n",
      "0  0.956522   0.914934  0.956522  0.935266\n",
      "Training model for cause\n",
      "   accuracy  precision    recall        f1\n",
      "0  0.966555   0.934229  0.966555  0.950117\n",
      "Training model for discrep\n",
      "   accuracy  precision    recall        f1\n",
      "0  0.982163   0.982482  0.982163  0.976298\n",
      "Training model for tentat\n",
      "   accuracy  precision  recall        f1\n",
      "0    0.9699   0.940705  0.9699  0.955079\n",
      "Training model for certain\n",
      "   accuracy  precision    recall        f1\n",
      "0  0.982163   0.982481  0.982163  0.974315\n",
      "Training model for inhib\n",
      "   accuracy  precision    recall        f1\n",
      "0  0.974359   0.949375  0.974359  0.961705\n",
      "Training model for incl\n",
      "   accuracy  precision    recall        f1\n",
      "0  0.995541   0.991101  0.995541  0.993316\n",
      "Training model for excl\n",
      "   accuracy  precision    recall        f1\n",
      "0  0.996656   0.993322  0.996656  0.994986\n",
      "Training model for percept\n",
      "   accuracy  precision    recall       f1\n",
      "0  0.958751   0.960455  0.958751  0.93962\n",
      "Training model for see\n",
      "   accuracy  precision    recall        f1\n",
      "0  0.988852   0.977828  0.988852  0.983309\n",
      "Training model for hear\n",
      "   accuracy  precision    recall       f1\n",
      "0  0.992196   0.984453  0.992196  0.98831\n",
      "Training model for feel\n",
      "   accuracy  precision    recall        f1\n",
      "0  0.989967   0.990067  0.989967  0.985887\n",
      "Training model for bio\n",
      "   accuracy  precision    recall        f1\n",
      "0  0.880713   0.894959  0.880713  0.825952\n",
      "Training model for body\n",
      "   accuracy  precision    recall        f1\n",
      "0  0.966555   0.967675  0.966555  0.951163\n",
      "Training model for health\n",
      "   accuracy  precision    recall        f1\n",
      "0  0.949833   0.902182  0.949833  0.925395\n",
      "Training model for sexual\n",
      "   accuracy  precision    recall        f1\n",
      "0  0.985507   0.971225  0.985507  0.978314\n",
      "Training model for ingest\n",
      "   accuracy  precision    recall        f1\n",
      "0  0.972129   0.945035  0.972129  0.958391\n"
     ]
    },
    {
     "name": "stderr",
     "output_type": "stream",
     "text": [
      "/Users/jessedoka/dev/LCT/env/lib/python3.11/site-packages/sklearn/metrics/_classification.py:1509: UndefinedMetricWarning: Precision is ill-defined and being set to 0.0 in labels with no predicted samples. Use `zero_division` parameter to control this behavior.\n",
      "  _warn_prf(average, modifier, f\"{metric.capitalize()} is\", len(result))\n",
      "/Users/jessedoka/dev/LCT/env/lib/python3.11/site-packages/sklearn/metrics/_classification.py:1509: UndefinedMetricWarning: Precision is ill-defined and being set to 0.0 in labels with no predicted samples. Use `zero_division` parameter to control this behavior.\n",
      "  _warn_prf(average, modifier, f\"{metric.capitalize()} is\", len(result))\n",
      "/Users/jessedoka/dev/LCT/env/lib/python3.11/site-packages/sklearn/metrics/_classification.py:1509: UndefinedMetricWarning: Precision is ill-defined and being set to 0.0 in labels with no predicted samples. Use `zero_division` parameter to control this behavior.\n",
      "  _warn_prf(average, modifier, f\"{metric.capitalize()} is\", len(result))\n",
      "/Users/jessedoka/dev/LCT/env/lib/python3.11/site-packages/sklearn/metrics/_classification.py:1509: UndefinedMetricWarning: Precision is ill-defined and being set to 0.0 in labels with no predicted samples. Use `zero_division` parameter to control this behavior.\n",
      "  _warn_prf(average, modifier, f\"{metric.capitalize()} is\", len(result))\n",
      "/Users/jessedoka/dev/LCT/env/lib/python3.11/site-packages/sklearn/metrics/_classification.py:1509: UndefinedMetricWarning: Precision is ill-defined and being set to 0.0 in labels with no predicted samples. Use `zero_division` parameter to control this behavior.\n",
      "  _warn_prf(average, modifier, f\"{metric.capitalize()} is\", len(result))\n",
      "/Users/jessedoka/dev/LCT/env/lib/python3.11/site-packages/sklearn/metrics/_classification.py:1509: UndefinedMetricWarning: Precision is ill-defined and being set to 0.0 in labels with no predicted samples. Use `zero_division` parameter to control this behavior.\n",
      "  _warn_prf(average, modifier, f\"{metric.capitalize()} is\", len(result))\n",
      "/Users/jessedoka/dev/LCT/env/lib/python3.11/site-packages/sklearn/metrics/_classification.py:1509: UndefinedMetricWarning: Precision is ill-defined and being set to 0.0 in labels with no predicted samples. Use `zero_division` parameter to control this behavior.\n",
      "  _warn_prf(average, modifier, f\"{metric.capitalize()} is\", len(result))\n",
      "/Users/jessedoka/dev/LCT/env/lib/python3.11/site-packages/sklearn/metrics/_classification.py:1509: UndefinedMetricWarning: Precision is ill-defined and being set to 0.0 in labels with no predicted samples. Use `zero_division` parameter to control this behavior.\n",
      "  _warn_prf(average, modifier, f\"{metric.capitalize()} is\", len(result))\n",
      "/Users/jessedoka/dev/LCT/env/lib/python3.11/site-packages/sklearn/metrics/_classification.py:1509: UndefinedMetricWarning: Precision is ill-defined and being set to 0.0 in labels with no predicted samples. Use `zero_division` parameter to control this behavior.\n",
      "  _warn_prf(average, modifier, f\"{metric.capitalize()} is\", len(result))\n",
      "/Users/jessedoka/dev/LCT/env/lib/python3.11/site-packages/sklearn/metrics/_classification.py:1509: UndefinedMetricWarning: Precision is ill-defined and being set to 0.0 in labels with no predicted samples. Use `zero_division` parameter to control this behavior.\n",
      "  _warn_prf(average, modifier, f\"{metric.capitalize()} is\", len(result))\n",
      "/Users/jessedoka/dev/LCT/env/lib/python3.11/site-packages/sklearn/metrics/_classification.py:1509: UndefinedMetricWarning: Precision is ill-defined and being set to 0.0 in labels with no predicted samples. Use `zero_division` parameter to control this behavior.\n",
      "  _warn_prf(average, modifier, f\"{metric.capitalize()} is\", len(result))\n"
     ]
    },
    {
     "name": "stdout",
     "output_type": "stream",
     "text": [
      "Training model for relativ\n",
      "   accuracy  precision    recall      f1\n",
      "0  0.848384   0.871397  0.848384  0.7799\n",
      "Training model for motion\n",
      "   accuracy  precision    recall        f1\n",
      "0  0.953177   0.908547  0.953177  0.930327\n",
      "Training model for space\n",
      "   accuracy  precision    recall        f1\n",
      "0  0.950948   0.953356  0.950948  0.928105\n",
      "Training model for time\n",
      "   accuracy  precision    recall        f1\n",
      "0  0.946488    0.89584  0.946488  0.920468\n",
      "Training model for work\n",
      "   accuracy  precision    recall        f1\n",
      "0  0.929766   0.864465  0.929766  0.895927\n",
      "Training model for achieve\n",
      "   accuracy  precision    recall        f1\n",
      "0  0.949833   0.902182  0.949833  0.925395\n",
      "Training model for leisure\n",
      "   accuracy  precision    recall        f1\n",
      "0  0.955407   0.912802  0.955407  0.933619\n",
      "Training model for home\n",
      "   accuracy  precision    recall        f1\n",
      "0  0.976589   0.953725  0.976589  0.965022\n",
      "Training model for money\n",
      "   accuracy  precision    recall       f1\n",
      "0  0.960981   0.923485  0.960981  0.94186\n",
      "Training model for relig\n",
      "   accuracy  precision    recall       f1\n",
      "0  0.962096   0.925628  0.962096  0.94351\n",
      "Training model for death\n",
      "   accuracy  precision    recall        f1\n",
      "0  0.986622   0.973423  0.986622  0.979978\n",
      "Training model for assent\n",
      "   accuracy  precision    recall        f1\n",
      "0  0.989967   0.980034  0.989967  0.984975\n",
      "Training model for nonfl\n",
      "   accuracy  precision    recall        f1\n",
      "0  0.995541   0.991101  0.995541  0.993316\n",
      "Training model for filler\n",
      "   accuracy  precision    recall        f1\n",
      "0  0.998885   0.997772  0.998885  0.998328\n"
     ]
    },
    {
     "name": "stderr",
     "output_type": "stream",
     "text": [
      "/Users/jessedoka/dev/LCT/env/lib/python3.11/site-packages/sklearn/metrics/_classification.py:1509: UndefinedMetricWarning: Precision is ill-defined and being set to 0.0 in labels with no predicted samples. Use `zero_division` parameter to control this behavior.\n",
      "  _warn_prf(average, modifier, f\"{metric.capitalize()} is\", len(result))\n",
      "/Users/jessedoka/dev/LCT/env/lib/python3.11/site-packages/sklearn/metrics/_classification.py:1509: UndefinedMetricWarning: Precision is ill-defined and being set to 0.0 in labels with no predicted samples. Use `zero_division` parameter to control this behavior.\n",
      "  _warn_prf(average, modifier, f\"{metric.capitalize()} is\", len(result))\n",
      "/Users/jessedoka/dev/LCT/env/lib/python3.11/site-packages/sklearn/metrics/_classification.py:1509: UndefinedMetricWarning: Precision is ill-defined and being set to 0.0 in labels with no predicted samples. Use `zero_division` parameter to control this behavior.\n",
      "  _warn_prf(average, modifier, f\"{metric.capitalize()} is\", len(result))\n",
      "/Users/jessedoka/dev/LCT/env/lib/python3.11/site-packages/sklearn/metrics/_classification.py:1509: UndefinedMetricWarning: Precision is ill-defined and being set to 0.0 in labels with no predicted samples. Use `zero_division` parameter to control this behavior.\n",
      "  _warn_prf(average, modifier, f\"{metric.capitalize()} is\", len(result))\n",
      "/Users/jessedoka/dev/LCT/env/lib/python3.11/site-packages/sklearn/metrics/_classification.py:1509: UndefinedMetricWarning: Precision is ill-defined and being set to 0.0 in labels with no predicted samples. Use `zero_division` parameter to control this behavior.\n",
      "  _warn_prf(average, modifier, f\"{metric.capitalize()} is\", len(result))\n",
      "/Users/jessedoka/dev/LCT/env/lib/python3.11/site-packages/sklearn/metrics/_classification.py:1509: UndefinedMetricWarning: Precision is ill-defined and being set to 0.0 in labels with no predicted samples. Use `zero_division` parameter to control this behavior.\n",
      "  _warn_prf(average, modifier, f\"{metric.capitalize()} is\", len(result))\n",
      "/Users/jessedoka/dev/LCT/env/lib/python3.11/site-packages/sklearn/metrics/_classification.py:1509: UndefinedMetricWarning: Precision is ill-defined and being set to 0.0 in labels with no predicted samples. Use `zero_division` parameter to control this behavior.\n",
      "  _warn_prf(average, modifier, f\"{metric.capitalize()} is\", len(result))\n",
      "/Users/jessedoka/dev/LCT/env/lib/python3.11/site-packages/sklearn/metrics/_classification.py:1509: UndefinedMetricWarning: Precision is ill-defined and being set to 0.0 in labels with no predicted samples. Use `zero_division` parameter to control this behavior.\n",
      "  _warn_prf(average, modifier, f\"{metric.capitalize()} is\", len(result))\n",
      "/Users/jessedoka/dev/LCT/env/lib/python3.11/site-packages/sklearn/metrics/_classification.py:1509: UndefinedMetricWarning: Precision is ill-defined and being set to 0.0 in labels with no predicted samples. Use `zero_division` parameter to control this behavior.\n",
      "  _warn_prf(average, modifier, f\"{metric.capitalize()} is\", len(result))\n"
     ]
    }
   ],
   "source": [
    "liwc_models = []\n",
    "liwc_metrics = []\n",
    "\n",
    "for i in category_names:\n",
    "    model, metrics = train_model(liwc_lexicon, i, liwc_model, None)\n",
    "    print(f'Training model for {i}')\n",
    "    print(metrics)\n",
    "    liwc_models.append((i, model))\n",
    "    liwc_metrics.append((i, metrics))"
   ]
  },
  {
   "cell_type": "code",
   "execution_count": null,
   "metadata": {},
   "outputs": [
    {
     "data": {
      "text/plain": [
       "['0000000000000000000000000000000000000000000000000000000000000000']"
      ]
     },
     "execution_count": 75,
     "metadata": {},
     "output_type": "execute_result"
    }
   ],
   "source": [
    "predict_and_concatenate(liwc_models, 'i care about you abdomen')"
   ]
  }
 ],
 "metadata": {
  "kernelspec": {
   "display_name": "venv",
   "language": "python",
   "name": "python3"
  },
  "language_info": {
   "codemirror_mode": {
    "name": "ipython",
    "version": 3
   },
   "file_extension": ".py",
   "mimetype": "text/x-python",
   "name": "python",
   "nbconvert_exporter": "python",
   "pygments_lexer": "ipython3",
   "version": "3.11.8"
  }
 },
 "nbformat": 4,
 "nbformat_minor": 2
}
