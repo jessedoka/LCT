{
 "cells": [
  {
   "cell_type": "markdown",
   "metadata": {},
   "source": [
    "# Storing text data"
   ]
  },
  {
   "cell_type": "code",
   "execution_count": 10,
   "metadata": {},
   "outputs": [],
   "source": [
    "import ijson\n",
    "import json\n",
    "import pandas as pd\n",
    "import gzip\n",
    "\n",
    "gzip_file_path = 'datasets/goodreads_reviews_dedup.json.gz'"
   ]
  },
  {
   "cell_type": "code",
   "execution_count": 6,
   "metadata": {},
   "outputs": [
    {
     "name": "stdout",
     "output_type": "stream",
     "text": [
      "['{\"user_id\": \"8842281e1d1347389f2ab93d60773d4d\", \"book_id\": \"24375664\", \"review_id\": \"5cd416f3efc3f944fce4ce2db2290d5e\", \"rating\": 5, \"review_text\": \"Mind blowingly cool. Best science fiction I\\'ve read in some time. I just loved all the descriptions of the society of the future - how they lived in trees, the notion of owning property or even getting married was gone. How every surface was a screen. \\\\n The undulations of how society responds to the Trisolaran threat seem surprising to me. Maybe its more the Chinese perspective, but I wouldn\\'t have thought the ETO would exist in book 1, and I wouldn\\'t have thought people would get so over-confident in our primitive fleet\\'s chances given you have to think that with superior science they would have weapons - and defenses - that would just be as rifles to arrows once were. \\\\n But the moment when Luo Ji won as a wallfacer was just too cool. I may have actually done a fist pump. Though by the way, if the Dark Forest theory is right - and I see no reason why it wouldn\\'t be - we as a society should probably stop broadcasting so much signal out into the universe.\", \"date_added\": \"Fri Aug 25 13:55:02 -0700 2017\", \"date_updated\": \"Mon Oct 09 08:55:59 -0700 2017\", \"read_at\": \"Sat Oct 07 00:00:00 -0700 2017\", \"started_at\": \"Sat Aug 26 00:00:00 -0700 2017\", \"n_votes\": 16, \"n_comments\": 0}\\n', '{\"user_id\": \"8842281e1d1347389f2ab93d60773d4d\", \"book_id\": \"18245960\", \"review_id\": \"dfdbb7b0eb5a7e4c26d59a937e2e5feb\", \"rating\": 5, \"review_text\": \"This is a special book. It started slow for about the first third, then in the middle third it started to get interesting, then the last third blew my mind. This is what I love about good science fiction - it pushes your thinking about where things can go. \\\\n It is a 2015 Hugo winner, and translated from its original Chinese, which made it interesting in just a different way from most things I\\'ve read. For instance the intermixing of Chinese revolutionary history - how they kept accusing people of being \\\\\"reactionaries\\\\\", etc. \\\\n It is a book about science, and aliens. The science described in the book is impressive - its a book grounded in physics and pretty accurate as far as I could tell. Though when it got to folding protons into 8 dimensions I think he was just making stuff up - interesting to think about though. \\\\n But what would happen if our SETI stations received a message - if we found someone was out there - and the person monitoring and answering the signal on our side was disillusioned? That part of the book was a bit dark - I would like to think human reaction to discovering alien civilization that is hostile would be more like Enders Game where we would band together. \\\\n I did like how the book unveiled the Trisolaran culture through the game. It was a smart way to build empathy with them and also understand what they\\'ve gone through across so many centuries. And who know a 3 body problem was an unsolvable math problem? But I still don\\'t get who made the game - maybe that will come in the next book. \\\\n I loved this quote: \\\\n \\\\\"In the long history of scientific progress, how many protons have been smashed apart in accelerators by physicists? How many neutrons and electrons? Probably no fewer than a hundred million. Every collision was probably the end of the civilizations and intelligences in a microcosmos. In fact, even in nature, the destruction of universes must be happening at every second--for example, through the decay of neutrons. Also, a high-energy cosmic ray entering the atmosphere may destroy thousands of such miniature universes....\\\\\"\", \"date_added\": \"Sun Jul 30 07:44:10 -0700 2017\", \"date_updated\": \"Wed Aug 30 00:00:26 -0700 2017\", \"read_at\": \"Sat Aug 26 12:05:52 -0700 2017\", \"started_at\": \"Tue Aug 15 13:23:18 -0700 2017\", \"n_votes\": 28, \"n_comments\": 1}\\n']\n"
     ]
    }
   ],
   "source": [
    "# get the first 2 reviews using json\n",
    "with gzip.open(gzip_file_path, 'rt') as file:\n",
    "    reviews = []\n",
    "    for i in range(2):\n",
    "        reviews.append(file.readline())\n",
    "print(reviews)\n"
   ]
  },
  {
   "cell_type": "markdown",
   "metadata": {},
   "source": [
    "generate a small dataset of json data to inspect how to store text data in a json file"
   ]
  },
  {
   "cell_type": "code",
   "execution_count": 1,
   "metadata": {},
   "outputs": [
    {
     "ename": "NameError",
     "evalue": "name 'pd' is not defined",
     "output_type": "error",
     "traceback": [
      "\u001b[0;31m---------------------------------------------------------------------------\u001b[0m",
      "\u001b[0;31mNameError\u001b[0m                                 Traceback (most recent call last)",
      "Cell \u001b[0;32mIn[1], line 17\u001b[0m\n\u001b[1;32m     15\u001b[0m \u001b[38;5;66;03m# Initialize an empty DataFrame with column names\u001b[39;00m\n\u001b[1;32m     16\u001b[0m columns \u001b[38;5;241m=\u001b[39m [\u001b[38;5;124m'\u001b[39m\u001b[38;5;124mreview_text\u001b[39m\u001b[38;5;124m'\u001b[39m]\n\u001b[0;32m---> 17\u001b[0m df \u001b[38;5;241m=\u001b[39m \u001b[43mpd\u001b[49m\u001b[38;5;241m.\u001b[39mDataFrame(columns\u001b[38;5;241m=\u001b[39mcolumns)\n\u001b[1;32m     19\u001b[0m \u001b[38;5;66;03m# Process each review_text one by one to avoid memory overload\u001b[39;00m\n\u001b[1;32m     20\u001b[0m \u001b[38;5;28;01mfor\u001b[39;00m review_text \u001b[38;5;129;01min\u001b[39;00m read_reviews(gzip_file_path):\n\u001b[1;32m     21\u001b[0m     \u001b[38;5;66;03m# Append each review_text as a new row to the DataFrame\u001b[39;00m\n",
      "\u001b[0;31mNameError\u001b[0m: name 'pd' is not defined"
     ]
    }
   ],
   "source": [
    "# Define a generator function to read and yield review texts line by line\n",
    "def read_reviews(file_path):\n",
    "    with gzip.open(file_path, 'rt', encoding='utf-8') as f:\n",
    "        for line in f:\n",
    "            try:\n",
    "                # Parse each line as a JSON object\n",
    "                obj = json.loads(line.strip())\n",
    "                # Yield the review_text if it exists\n",
    "                if 'review_text' in obj:\n",
    "                    yield obj['review_text']\n",
    "            except json.JSONDecodeError as e:\n",
    "                # Skip lines with JSON errors\n",
    "                print(f\"Skipping line due to JSON error: {e}\")\n",
    "\n",
    "# Initialize an empty DataFrame with column names\n",
    "columns = ['review_text']\n",
    "df = pd.DataFrame(columns=columns)\n",
    "\n",
    "# Process each review_text one by one to avoid memory overload\n",
    "for review_text in read_reviews(gzip_file_path):\n",
    "    # Append each review_text as a new row to the DataFrame\n",
    "    df = pd.concat([df, pd.DataFrame([[review_text]], columns=columns)], ignore_index=True)\n",
    "\n",
    "    # Save the DataFrame to a pickle file periodically to avoid high memory usage\n",
    "    if len(df) % 100000 == 0:\n",
    "        df.to_pickle('data/reviews.pkl')\n",
    "        print(f\"Saved {len(df)} review_text entries so far...\")\n",
    "\n",
    "# Final save of any remaining data\n",
    "df.to_pickle('data/reviews.pkl')\n",
    "print(f\"Saved all {len(df)} review_text entries to 'reviews.pkl'\")"
   ]
  }
 ],
 "metadata": {
  "kernelspec": {
   "display_name": "venv",
   "language": "python",
   "name": "python3"
  },
  "language_info": {
   "codemirror_mode": {
    "name": "ipython",
    "version": 3
   },
   "file_extension": ".py",
   "mimetype": "text/x-python",
   "name": "python",
   "nbconvert_exporter": "python",
   "pygments_lexer": "ipython3",
   "version": "3.11.4"
  }
 },
 "nbformat": 4,
 "nbformat_minor": 2
}
