{
 "cells": [
  {
   "cell_type": "markdown",
   "metadata": {},
   "source": [
    "# Reading 15 million reviews \n",
    "\n",
    "*what is the best way to read 15 million reviews?* "
   ]
  },
  {
   "cell_type": "code",
   "execution_count": 1,
   "metadata": {},
   "outputs": [],
   "source": [
    "import gzip\n",
    "import json\n",
    "import os\n",
    "\n",
    "import pandas as pd"
   ]
  },
  {
   "cell_type": "code",
   "execution_count": 2,
   "metadata": {},
   "outputs": [],
   "source": [
    "DIR = \"./data\""
   ]
  },
  {
   "cell_type": "code",
   "execution_count": 3,
   "metadata": {},
   "outputs": [],
   "source": [
    "def load_data(file_name, head=1000):\n",
    "    # 15739967\n",
    "    count = 0\n",
    "    data = []\n",
    "    with gzip.open(file_name) as fin:\n",
    "        for l in fin:\n",
    "            d = json.loads(l)\n",
    "            count += 1\n",
    "            \n",
    "            # only get review_text and review_stars\n",
    "            data.append([d['review_text'], d['n_votes'], d['rating']])\n",
    "\n",
    "\n",
    "            # break if reaches the headth line\n",
    "            if (head is not None) and (count > head):\n",
    "                break\n",
    "    return data"
   ]
  },
  {
   "cell_type": "code",
   "execution_count": 4,
   "metadata": {},
   "outputs": [],
   "source": [
    "reviews = pd.DataFrame(load_data(os.path.join(\n",
    "    DIR, \"goodreads_reviews_dedup.json.gz\"))\n",
    ")\n",
    "\n",
    "# rename columns: reviews_text, n_votes, rating\n",
    "reviews.columns = ['review_text', 'n_votes', 'rating']"
   ]
  },
  {
   "cell_type": "code",
   "execution_count": 5,
   "metadata": {},
   "outputs": [
    {
     "data": {
      "text/html": [
       "<div>\n",
       "<style scoped>\n",
       "    .dataframe tbody tr th:only-of-type {\n",
       "        vertical-align: middle;\n",
       "    }\n",
       "\n",
       "    .dataframe tbody tr th {\n",
       "        vertical-align: top;\n",
       "    }\n",
       "\n",
       "    .dataframe thead th {\n",
       "        text-align: right;\n",
       "    }\n",
       "</style>\n",
       "<table border=\"1\" class=\"dataframe\">\n",
       "  <thead>\n",
       "    <tr style=\"text-align: right;\">\n",
       "      <th></th>\n",
       "      <th>review_text</th>\n",
       "      <th>n_votes</th>\n",
       "      <th>rating</th>\n",
       "    </tr>\n",
       "  </thead>\n",
       "  <tbody>\n",
       "    <tr>\n",
       "      <th>0</th>\n",
       "      <td>Mind blowingly cool. Best science fiction I've...</td>\n",
       "      <td>16</td>\n",
       "      <td>5</td>\n",
       "    </tr>\n",
       "    <tr>\n",
       "      <th>1</th>\n",
       "      <td>This is a special book. It started slow for ab...</td>\n",
       "      <td>28</td>\n",
       "      <td>5</td>\n",
       "    </tr>\n",
       "    <tr>\n",
       "      <th>2</th>\n",
       "      <td>I haven't read a fun mystery book in a while a...</td>\n",
       "      <td>6</td>\n",
       "      <td>3</td>\n",
       "    </tr>\n",
       "    <tr>\n",
       "      <th>3</th>\n",
       "      <td>Fun, fast paced, and disturbing tale of murder...</td>\n",
       "      <td>22</td>\n",
       "      <td>4</td>\n",
       "    </tr>\n",
       "    <tr>\n",
       "      <th>4</th>\n",
       "      <td>A fun book that gives you a sense of living in...</td>\n",
       "      <td>8</td>\n",
       "      <td>4</td>\n",
       "    </tr>\n",
       "    <tr>\n",
       "      <th>...</th>\n",
       "      <td>...</td>\n",
       "      <td>...</td>\n",
       "      <td>...</td>\n",
       "    </tr>\n",
       "    <tr>\n",
       "      <th>996</th>\n",
       "      <td>Tessa Bailey is known for writing the dirtiest...</td>\n",
       "      <td>0</td>\n",
       "      <td>5</td>\n",
       "    </tr>\n",
       "    <tr>\n",
       "      <th>997</th>\n",
       "      <td>4.5 stars!! Sweet Filthy Boy is the first book...</td>\n",
       "      <td>0</td>\n",
       "      <td>4</td>\n",
       "    </tr>\n",
       "    <tr>\n",
       "      <th>998</th>\n",
       "      <td>This is an unexpectedly funny book with lots o...</td>\n",
       "      <td>1</td>\n",
       "      <td>4</td>\n",
       "    </tr>\n",
       "    <tr>\n",
       "      <th>999</th>\n",
       "      <td>I liked this installment better than the first...</td>\n",
       "      <td>1</td>\n",
       "      <td>4</td>\n",
       "    </tr>\n",
       "    <tr>\n",
       "      <th>1000</th>\n",
       "      <td>This novella gets 5 stars for the absolutely s...</td>\n",
       "      <td>5</td>\n",
       "      <td>3</td>\n",
       "    </tr>\n",
       "  </tbody>\n",
       "</table>\n",
       "<p>1001 rows × 3 columns</p>\n",
       "</div>"
      ],
      "text/plain": [
       "                                            review_text  n_votes  rating\n",
       "0     Mind blowingly cool. Best science fiction I've...       16       5\n",
       "1     This is a special book. It started slow for ab...       28       5\n",
       "2     I haven't read a fun mystery book in a while a...        6       3\n",
       "3     Fun, fast paced, and disturbing tale of murder...       22       4\n",
       "4     A fun book that gives you a sense of living in...        8       4\n",
       "...                                                 ...      ...     ...\n",
       "996   Tessa Bailey is known for writing the dirtiest...        0       5\n",
       "997   4.5 stars!! Sweet Filthy Boy is the first book...        0       4\n",
       "998   This is an unexpectedly funny book with lots o...        1       4\n",
       "999   I liked this installment better than the first...        1       4\n",
       "1000  This novella gets 5 stars for the absolutely s...        5       3\n",
       "\n",
       "[1001 rows x 3 columns]"
      ]
     },
     "execution_count": 5,
     "metadata": {},
     "output_type": "execute_result"
    }
   ],
   "source": [
    "reviews"
   ]
  },
  {
   "cell_type": "code",
   "execution_count": 6,
   "metadata": {},
   "outputs": [],
   "source": [
    "reviews.to_csv(os.path.join(DIR, \"sample.csv\"), index=False)"
   ]
  },
  {
   "cell_type": "markdown",
   "metadata": {},
   "source": [
    "# EDA"
   ]
  },
  {
   "cell_type": "code",
   "execution_count": 7,
   "metadata": {},
   "outputs": [],
   "source": [
    "import nltk\n",
    "\n",
    "from nltk.corpus import opinion_lexicon\n",
    "from nltk.tokenize import word_tokenize, sent_tokenize\n",
    "from nltk.tag import pos_tag\n",
    "from nltk.corpus import stopwords\n",
    "import string\n",
    "\n",
    "import matplotlib.pyplot as plt\n",
    "import seaborn as sns\n",
    "\n",
    "plt.style.use('ggplot')"
   ]
  },
  {
   "cell_type": "code",
   "execution_count": 8,
   "metadata": {},
   "outputs": [
    {
     "name": "stderr",
     "output_type": "stream",
     "text": [
      "[nltk_data] Error loading opinion_lexicon: <urlopen error [Errno -3]\n",
      "[nltk_data]     Temporary failure in name resolution>\n",
      "[nltk_data] Error loading punkt: <urlopen error [Errno -3] Temporary\n",
      "[nltk_data]     failure in name resolution>\n",
      "[nltk_data] Error loading averaged_perceptron_tagger: <urlopen error\n",
      "[nltk_data]     [Errno -3] Temporary failure in name resolution>\n",
      "[nltk_data] Error loading stopwords: <urlopen error [Errno -3]\n",
      "[nltk_data]     Temporary failure in name resolution>\n"
     ]
    },
    {
     "data": {
      "text/plain": [
       "False"
      ]
     },
     "execution_count": 8,
     "metadata": {},
     "output_type": "execute_result"
    }
   ],
   "source": [
    "nltk.download('opinion_lexicon')\n",
    "nltk.download('punkt')\n",
    "nltk.download('averaged_perceptron_tagger')\n",
    "nltk.download('stopwords')"
   ]
  },
  {
   "cell_type": "code",
   "execution_count": 9,
   "metadata": {},
   "outputs": [
    {
     "data": {
      "image/png": "[encoded data removed]",
      "text/plain": [
       "<Figure size 640x480 with 1 Axes>"
      ]
     },
     "metadata": {},
     "output_type": "display_data"
    }
   ],
   "source": [
    "ax = sns.countplot(data=reviews, x='rating')"
   ]
  },
  {
   "cell_type": "code",
   "execution_count": 10,
   "metadata": {},
   "outputs": [
    {
     "name": "stdout",
     "output_type": "stream",
     "text": [
      "A wonderful, beautifully written, poignant, subtle, and brilliant novel. \n",
      " This is the story of an English butler of one the great houses, whose self value comes from his duty and his dignity, and who questions his values and his life in the end. It is ultimately a story of regret. It is a story that makes you want to live your life and dedicate yourself to things that you won't regret when you look back. One of the best ways of thinking about regret I've ever come across is from Jeff Bezos in his nerdily titled Regret Minimization Framework. \n",
      " But what I really loved about the novel is how slow and forcefully it builds. I don't think I've read a book that does that so well since Pride and Prejudice. In the beginning you think it's just a butler going on a motoring trip. And at the end, your heart is breaking. \n",
      " Dignity is a big theme in the novel. Stevens attempts to define dignity several times throughout the novel - his definition generally has to do with self-respect and keeping ones emotions in check. But you have to wonder - his is suppression of emotions what leads him to where he ends up? His pushing himself to \"banter\" is a an interesting indication of him trying to break that pattern. \n",
      " \"We may now understand better, too, why my father was so fond of the story of the butler who failed to panic on discovering a tiger under the dining table; it was because he knew instinctively that somewhere in this story lay the kernel of what true 'dignity' is.\" \n",
      " \"What do you think dignity's all about?' The directness of the inquiry did, I admit, take me rather by surprise. 'It's rather a hard thing to explain in a few words, sir,' I said. 'But I suspect it comes down to not removing one's clothing in public.\" \n",
      " In the end, Stevens breaks your heart in two ways: he missed out on the love of his life, AND he realizes that he dedicated his life to serving a man who in the end wasn't the great man he thought he was. Good reminder: prioritize love first. And work on things that matter. \n",
      " Another aspect I loved is just learning about the era and how things in England worked. Fascinating for instance that multi-day stays at large estates were the only way to get a bunch of people together to communicate on an issue. Today, we communicate in very different ways. Seems appealing to try that way. \n",
      " I'll conclude this with another of my favorite quotes from the novel: \n",
      " You've got to enjoy yourself. The evening's the best part of the day. You've done your day's work. Now you can put your feet up and enjoy it. That's how I look at it. Ask anybody, they'll all tell you. The evening's the best part of the day.\n"
     ]
    }
   ],
   "source": [
    "example = reviews.iloc[55]['review_text']\n",
    "print(example)"
   ]
  },
  {
   "cell_type": "code",
   "execution_count": 11,
   "metadata": {},
   "outputs": [],
   "source": [
    "sentences = sent_tokenize(example)"
   ]
  },
  {
   "cell_type": "code",
   "execution_count": 12,
   "metadata": {},
   "outputs": [],
   "source": [
    "stop_words = set(stopwords.words('english'))"
   ]
  },
  {
   "cell_type": "code",
   "execution_count": 13,
   "metadata": {},
   "outputs": [],
   "source": [
    "def extract_sentiment_terms(sentence):\n",
    "    # Tokenize words and tag part of speech\n",
    "    words = word_tokenize(sentence)\n",
    "    tagged_words = pos_tag(words)\n",
    "    sentiment_terms = set()\n",
    "\n",
    "    for word, tag in tagged_words:\n",
    "        if word.lower() not in stop_words and word not in string.punctuation:\n",
    "            if tag.startswith('JJ') or tag.startswith('RB'):\n",
    "                if word.lower() in opinion_lexicon.positive() or word.lower() in opinion_lexicon.negative():\n",
    "                    sentiment_terms.add(word)\n",
    "\n",
    "    return sentiment_terms\n"
   ]
  },
  {
   "cell_type": "code",
   "execution_count": 14,
   "metadata": {},
   "outputs": [],
   "source": [
    "sentiment_terms = set()\n",
    "for sentence in sentences:\n",
    "    sentiment_terms.update(extract_sentiment_terms(sentence))"
   ]
  },
  {
   "cell_type": "code",
   "execution_count": 15,
   "metadata": {},
   "outputs": [
    {
     "data": {
      "text/plain": [
       "{'Good',\n",
       " 'beautifully',\n",
       " 'best',\n",
       " 'better',\n",
       " 'brilliant',\n",
       " 'favorite',\n",
       " 'fond',\n",
       " 'great',\n",
       " 'hard',\n",
       " 'interesting',\n",
       " 'poignant',\n",
       " 'self-respect',\n",
       " 'slow',\n",
       " 'well',\n",
       " 'wonderful'}"
      ]
     },
     "execution_count": 15,
     "metadata": {},
     "output_type": "execute_result"
    }
   ],
   "source": [
    "sentiment_terms"
   ]
  }
 ],
 "metadata": {
  "kernelspec": {
   "display_name": "venv",
   "language": "python",
   "name": "python3"
  },
  "language_info": {
   "codemirror_mode": {
    "name": "ipython",
    "version": 3
   },
   "file_extension": ".py",
   "mimetype": "text/x-python",
   "name": "python",
   "nbconvert_exporter": "python",
   "pygments_lexer": "ipython3",
   "version": "3.11.4"
  }
 },
 "nbformat": 4,
 "nbformat_minor": 2
}
