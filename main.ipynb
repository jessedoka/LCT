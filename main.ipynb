{
 "cells": [
  {
   "cell_type": "code",
   "execution_count": null,
   "metadata": {},
   "outputs": [],
   "source": [
    "%pip install -r requirements.txt"
   ]
  },
  {
   "cell_type": "code",
   "execution_count": null,
   "metadata": {},
   "outputs": [],
   "source": [
    "import json\n",
    "import spacy \n",
    "import argparse\n",
    "import seaborn \n",
    "import os "
   ]
  },
  {
   "cell_type": "code",
   "execution_count": null,
   "metadata": {},
   "outputs": [],
   "source": [
    "nlp = spacy.load(\"en_core_web_sm\")"
   ]
  },
  {
   "cell_type": "code",
   "execution_count": null,
   "metadata": {},
   "outputs": [],
   "source": [
    "# alice = open(\"alice.txt\", \"r\").read()\n",
    "\n",
    "# get file location of every file w\n",
    "# Read the file\n",
    "with open(nlploc, \"r\") as file:\n",
    "    text = file.read()"
   ]
  },
  {
   "cell_type": "code",
   "execution_count": null,
   "metadata": {},
   "outputs": [],
   "source": [
    "doc = nlp(text)"
   ]
  },
  {
   "cell_type": "code",
   "execution_count": null,
   "metadata": {},
   "outputs": [],
   "source": [
    "def character_tracker(doc):\n",
    "    \"\"\"\n",
    "    This is function that takes a spacy doc object and returns a dictionary of characters,\n",
    "    with their associated count and context. \n",
    "    \"\"\"\n",
    "    characters = {}\n",
    "\n",
    "    for entity in doc.ents:\n",
    "        print(entity.text, entity.label_)\n",
    "        # entity need to appear more than 5 times to be classed a character\n",
    "        if entity.label_ == \"PERSON\" and text.count(entity.text) > 5:\n",
    "            # add list of characters as an object\n",
    "            if entity.text not in characters:\n",
    "                characters[entity.text] = {\n",
    "                    \"count\": text.count(entity.text),\n",
    "                    \"context\": [entity.sent.text]\n",
    "                }\n",
    "            else:\n",
    "                characters[entity.text][\"context\"].append(entity.sent.text)"
   ]
  }
 ],
 "metadata": {
  "language_info": {
   "name": "python"
  }
 },
 "nbformat": 4,
 "nbformat_minor": 2
}
